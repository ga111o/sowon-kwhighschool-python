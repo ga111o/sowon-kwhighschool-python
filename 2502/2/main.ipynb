{
 "cells": [
  {
   "cell_type": "markdown",
   "id": "51fb0c85",
   "metadata": {},
   "source": [
    "`input()` 함수는 사용자로부터 키보드 입력을 받는 함수\n",
    "\n",
    "**기본 사용법:**\n",
    "```python\n",
    "변수명 = input(\"안내 메시지\")\n",
    "```\n",
    "\n",
    "**중요한 점:**\n",
    "- `input()`은 항상 **문자열(str)**을 반환.\n",
    "- 숫자를 입력받으려면 `int()` 또는 `float()` 함수로 변환 필요.\n"
   ]
  },
  {
   "cell_type": "code",
   "execution_count": null,
   "id": "ed6c1bdc",
   "metadata": {},
   "outputs": [],
   "source": [
    "# 예제 1: 문자열 입력받기\n",
    "name = input(\"이름을 입력하세요: \")\n",
    "print(f\"안녕하세요, {name}님!\")\n",
    "print(f\"입력한 값의 타입: {type(name)}\")\n"
   ]
  },
  {
   "cell_type": "code",
   "execution_count": null,
   "id": "eaf389b5",
   "metadata": {},
   "outputs": [],
   "source": [
    "# 예제 2: 숫자 입력받기 (중요!)\n",
    "age = input(\"나이를 입력하세요: \")\n",
    "print(f\"입력한 값: {age}, 타입: {type(age)}\")\n",
    "\n",
    "age_number = int(age)\n",
    "print(f\"변환 후: {age_number}, 타입: {type(age_number)}\")\n",
    "\n",
    "age2 = int(input(\"다시 나이를 입력하세요: \"))\n",
    "print(f\"나이: {age2}, 타입: {type(age2)}\")\n"
   ]
  },
  {
   "cell_type": "markdown",
   "id": "23bad9b1",
   "metadata": {},
   "source": [
    "조건에 따라 다른 코드를 실행하는 조건문입니다.\n",
    "\n",
    "**기본 구조:**\n",
    "```python\n",
    "if 조건1:\n",
    "    # 조건1이 True일 때 실행할 코드\n",
    "elif 조건2:\n",
    "    # 조건2가 True일 때 실행할 코드\n",
    "else:\n",
    "    # 위의 모든 조건이 False일 때 실행할 코드\n",
    "```\n"
   ]
  },
  {
   "cell_type": "code",
   "execution_count": null,
   "id": "6d515e21",
   "metadata": {},
   "outputs": [],
   "source": [
    "# 예제 1: 기본 if문\n",
    "score = 85\n",
    "\n",
    "if score >= 90:\n",
    "    print(\"A학점입니다!\")\n",
    "elif score >= 80:\n",
    "    print(\"B학점입니다!\")\n",
    "elif score >= 70:\n",
    "    print(\"C학점입니다!\")\n",
    "else:\n",
    "    print(\"F학점입니다!\")\n"
   ]
  },
  {
   "cell_type": "code",
   "execution_count": null,
   "id": "790d5974",
   "metadata": {},
   "outputs": [],
   "source": [
    "# 예제 2: 숫자 비교하기\n",
    "number = int(input(\"숫자를 입력하세요: \"))\n",
    "\n",
    "if number > 10:\n",
    "    print(\"10보다 큰 숫자입니다!\")\n",
    "elif number < 10:\n",
    "    print(\"10보다 작은 숫자입니다!\")\n",
    "else:\n",
    "    print(\"정확히 10입니다!\")\n"
   ]
  },
  {
   "cell_type": "markdown",
   "id": "1990268c",
   "metadata": {},
   "source": [
    "`random` 모듈은 랜덤한 값을 생성할 때 사용.\n",
    "\n",
    "**사용 방법:**\n",
    "1. 먼저 `import random`으로 모듈을 불러와야 합니다\n",
    "2. `random.randint(a, b)`는 a와 b 사이의 정수를 랜덤하게 생성합니다 (a와 b 포함)\n"
   ]
  },
  {
   "cell_type": "code",
   "execution_count": null,
   "id": "17331f35",
   "metadata": {},
   "outputs": [],
   "source": [
    "# random 모듈 불러오기\n",
    "import random\n",
    "\n",
    "# 1부터 10 사이의 랜덤한 정수 생성\n",
    "random_number = random.randint(1, 10)\n",
    "print(f\"생성된 랜덤 숫자: {random_number}\")\n"
   ]
  },
  {
   "cell_type": "code",
   "execution_count": null,
   "id": "cc252df8",
   "metadata": {},
   "outputs": [],
   "source": [
    "print(\"랜덤 숫자 5개 생성하기:\")\n",
    "for i in range(5):\n",
    "    num = random.randint(1, 10)\n",
    "    print(f\"{i+1}번째: {num}\")\n"
   ]
  },
  {
   "cell_type": "markdown",
   "id": "2482486d",
   "metadata": {},
   "source": [
    "목표! 숫자 맞추기 게임 만들기\n",
    ".\n",
    "\n",
    ".\n",
    "\n",
    ".\n",
    "\n",
    ".\n",
    "\n",
    ".\n",
    "\n",
    ".\n",
    "\n",
    ".\n",
    "\n",
    ".\n",
    "\n",
    ".\n",
    "\n",
    ".\n",
    "\n",
    ".\n",
    "\n",
    ".\n",
    "\n",
    ".\n",
    "\n",
    ".\n",
    "\n",
    ".\n",
    "\n",
    ".\n",
    "\n",
    ".\n",
    "\n",
    ".\n",
    "\n",
    ".\n",
    "\n",
    ".\n",
    "\n",
    ".\n",
    "\n",
    ".\n",
    "\n",
    ".\n",
    "\n",
    "."
   ]
  },
  {
   "cell_type": "code",
   "execution_count": null,
   "id": "4a3bd917",
   "metadata": {},
   "outputs": [],
   "source": [
    "import random\n",
    "\n",
    "# 1부터 10 사이의 랜덤한 숫자 생성\n",
    "number = random.randint(1, 10)\n",
    "print(f\"컴퓨터가 선택한 숫자: {number}\")\n"
   ]
  },
  {
   "cell_type": "code",
   "execution_count": null,
   "id": "45cc1252",
   "metadata": {},
   "outputs": [],
   "source": [
    "# 사용자 입력받기\n",
    "guess = int(input(\"1~10 사이 숫자를 맞혀보세요: \"))\n",
    "print(f\"당신이 입력한 숫자: {guess}\")\n"
   ]
  },
  {
   "cell_type": "code",
   "execution_count": null,
   "id": "51ac3b6e",
   "metadata": {},
   "outputs": [],
   "source": [
    "import random\n",
    "\n",
    "number = random.randint(1, 10)\n",
    "guess = int(input(\"1~10 사이 숫자를 맞혀보세요: \"))\n",
    "\n",
    "# 숫자 비교하고 힌트 주기\n",
    "if guess < number:\n",
    "    print(\"더 큰 숫자예요!\")\n",
    "elif guess > number:\n",
    "    print(\"더 작은 숫자예요!\")\n",
    "else:\n",
    "    print(\"정답입니다!\")\n"
   ]
  },
  {
   "cell_type": "code",
   "execution_count": null,
   "id": "3b7071d7",
   "metadata": {},
   "outputs": [],
   "source": [
    "import random\n",
    "\n",
    "number = random.randint(1, 10)\n",
    "guess = 0  # 초기값 설정 (number와 달라야 함)\n",
    "\n",
    "# guess가 number와 같지 않은 동안 반복\n",
    "while guess != number:\n",
    "    guess = int(input(\"1~10 사이 숫자를 맞혀보세요: \"))\n",
    "    \n",
    "    if guess < number:\n",
    "        print(\"더 큰 숫자예요!\")\n",
    "    elif guess > number:\n",
    "        print(\"더 작은 숫자예요!\")\n",
    "\n",
    "# Q: while 반복문이 끝났다는 것은 어떠한 경우?\n",
    "print(\"정답입니다!\")\n"
   ]
  },
  {
   "cell_type": "code",
   "execution_count": null,
   "id": "bc617d4e",
   "metadata": {},
   "outputs": [],
   "source": [
    "import random\n",
    "\n",
    "number = random.randint(1, 10)\n",
    "guess = 0\n",
    "\n",
    "while guess != number:\n",
    "    guess = int(input(\"1~10 사이 숫자를 맞혀보세요: \"))\n",
    "    if guess < number:\n",
    "        print(\"더 큰 숫자예요!\")\n",
    "    elif guess > number:\n",
    "        print(\"더 작은 숫자예요!\")\n",
    "\n",
    "print(\"정답입니다!\")\n"
   ]
  },
  {
   "cell_type": "markdown",
   "id": "e6f7bc24",
   "metadata": {},
   "source": [
    "\n",
    "시도 횟수 추가!"
   ]
  }
 ],
 "metadata": {
  "language_info": {
   "name": "python"
  }
 },
 "nbformat": 4,
 "nbformat_minor": 5
}
