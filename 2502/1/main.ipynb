{
 "cells": [
  {
   "cell_type": "markdown",
   "id": "27ce9559",
   "metadata": {},
   "source": [
    "# 파이썬 복습!"
   ]
  },
  {
   "cell_type": "code",
   "execution_count": 14,
   "id": "2b407c54",
   "metadata": {},
   "outputs": [
    {
     "name": "stdout",
     "output_type": "stream",
     "text": [
      "이름: 김광운\n",
      "나이: 18\n",
      "키: 175.5cm\n",
      "학생인가?: True\n",
      "name의 타입: <class 'str'>\n",
      "age의 타입: <class 'int'>\n"
     ]
    }
   ],
   "source": [
    "# 변수 선언과 기본 자료형\n",
    "name = \"김광운\"  # 문자열 (str)\n",
    "age = 18        # 정수 (int)\n",
    "height = 175.5  # 실수 (float)\n",
    "is_student = True  # 불리언 (bool)\n",
    "\n",
    "print(f\"이름: {name}\")\n",
    "print(f\"나이: {age}\")\n",
    "print(f\"키: {height}cm\")\n",
    "print(f\"학생인가?: {is_student}\")\n",
    "\n",
    "# 변수 타입 확인\n",
    "print(f\"name의 타입: {type(name)}\")\n",
    "print(f\"age의 타입: {type(age)}\")"
   ]
  },
  {
   "cell_type": "markdown",
   "id": "27499adb",
   "metadata": {},
   "source": [
    "### 1.2 연산자\n",
    "산술, 비교, 논리 연산자를 복습해보자.\n"
   ]
  },
  {
   "cell_type": "code",
   "execution_count": 15,
   "metadata": {},
   "outputs": [
    {
     "name": "stdout",
     "output_type": "stream",
     "text": [
      "a + b = 13\n",
      "a - b = 7\n",
      "a * b = 30\n",
      "a / b = 3.3333333333333335\n",
      "a // b = 3\n",
      "a % b = 1\n",
      "a ** b = 1000\n",
      "a > b: True\n",
      "a == b: False\n",
      "a != b: True\n",
      "x and y: False\n",
      "x or y: True\n",
      "not x: False\n"
     ]
    }
   ],
   "source": [
    "# 산술 연산자\n",
    "a = 10\n",
    "b = 3\n",
    "\n",
    "print(f\"a + b = {a + b}\")  # 덧셈\n",
    "print(f\"a - b = {a - b}\")  # 뺄셈\n",
    "print(f\"a * b = {a * b}\")  # 곱셈\n",
    "print(f\"a / b = {a / b}\")  # 나눗셈\n",
    "print(f\"a // b = {a // b}\")  # 몫\n",
    "print(f\"a % b = {a % b}\")  # 나머지\n",
    "print(f\"a ** b = {a ** b}\")  # 거듭제곱\n",
    "\n",
    "# 비교 연산자\n",
    "print(f\"a > b: {a > b}\")\n",
    "print(f\"a == b: {a == b}\")\n",
    "print(f\"a != b: {a != b}\")\n",
    "\n",
    "# 논리 연산자\n",
    "x = True\n",
    "y = False\n",
    "print(f\"x and y: {x and y}\")\n",
    "print(f\"x or y: {x or y}\")\n",
    "print(f\"not x: {not x}\")\n"
   ]
  },
  {
   "cell_type": "markdown",
   "id": "44b2b8ed",
   "metadata": {},
   "source": [
    "### 1.3 문자열 다루기\n",
    "문자열은 파이썬에서 중요한 자료형이다. 다양한 문자열 조작 방법을 복습해보자.\n"
   ]
  },
  {
   "cell_type": "code",
   "execution_count": 16,
   "metadata": {},
   "outputs": [
    {
     "name": "stdout",
     "output_type": "stream",
     "text": [
      "문자열 길이: 14\n",
      "대문자로: HELLO, PYTHON!\n",
      "소문자로: hello, python!\n",
      "특정 문자 개수: 2\n",
      "특정 문자 위치: 7\n",
      "text[0:5]: Hello\n",
      "text[7:]: Python!\n",
      "text[-1]: !\n",
      "안녕하세요, 광운님! 나이는 18세입니다.\n"
     ]
    }
   ],
   "source": [
    "# 문자열 기본 조작\n",
    "text = \"Hello, Python!\"\n",
    "\n",
    "print(f\"문자열 길이: {len(text)}\")\n",
    "print(f\"대문자로: {text.upper()}\")\n",
    "print(f\"소문자로: {text.lower()}\")\n",
    "print(f\"특정 문자 개수: {text.count('l')}\")\n",
    "print(f\"특정 문자 위치: {text.find('Python')}\")\n",
    "\n",
    "# 문자열 슬라이싱\n",
    "print(f\"text[0:5]: {text[0:5]}\")\n",
    "print(f\"text[7:]: {text[7:]}\")\n",
    "print(f\"text[-1]: {text[-1]}\")  # 마지막 문자\n",
    "\n",
    "# f-string (포맷팅)\n",
    "name = \"광운\"\n",
    "age = 18\n",
    "print(f\"안녕하세요, {name}님! 나이는 {age}세입니다.\")\n"
   ]
  },
  {
   "cell_type": "markdown",
   "id": "61b256ed",
   "metadata": {},
   "source": [
    "## 2. 조건문과 반복문\n",
    "\n",
    "### 2.1 조건문 (if, elif, else)\n",
    "프로그램의 흐름을 제어하는 기본적인 방법이다.\n"
   ]
  },
  {
   "cell_type": "code",
   "execution_count": 17,
   "metadata": {},
   "outputs": [
    {
     "name": "stdout",
     "output_type": "stream",
     "text": [
      "점수: 85, 학점: B\n"
     ]
    }
   ],
   "source": [
    "# 조건문 예제\n",
    "score = 85\n",
    "\n",
    "if score >= 90:\n",
    "    grade = \"A\"\n",
    "elif score >= 80:\n",
    "    grade = \"B\"\n",
    "elif score >= 70:\n",
    "    grade = \"C\"\n",
    "else:\n",
    "    grade = \"F\"\n",
    "\n",
    "print(f\"점수: {score}, 학점: {grade}\")"
   ]
  },
  {
   "cell_type": "markdown",
   "id": "5bf3af3e",
   "metadata": {},
   "source": [
    "### 2.2 반복문 (for, while)\n",
    "코드의 반복 실행을 위해 사용한다.\n"
   ]
  },
  {
   "cell_type": "code",
   "execution_count": 18,
   "metadata": {},
   "outputs": [
    {
     "name": "stdout",
     "output_type": "stream",
     "text": [
      "for 반복문으로 과일 출력:\n",
      "- 사과\n",
      "- 바나나\n",
      "- 포도\n",
      "- 딸기\n",
      "\n",
      "range()를 사용한 반복:\n",
      "1번째 실행\n",
      "2번째 실행\n",
      "3번째 실행\n",
      "4번째 실행\n",
      "5번째 실행\n",
      "\n",
      "while 반복문:\n",
      "현재 카운트: 1\n",
      "현재 카운트: 2\n",
      "현재 카운트: 3\n",
      "현재 카운트: 4\n",
      "현재 카운트: 5\n",
      "\n",
      "break 예제:\n",
      "1\n",
      "2\n",
      "3\n",
      "4\n",
      "\n",
      "continue 예제:\n",
      "1\n",
      "2\n",
      "4\n",
      "5\n"
     ]
    }
   ],
   "source": [
    "# for 반복문\n",
    "fruits = [\"사과\", \"바나나\", \"포도\", \"딸기\"]\n",
    "\n",
    "print(\"for 반복문으로 과일 출력:\")\n",
    "for fruit in fruits:\n",
    "    print(f\"- {fruit}\")\n",
    "\n",
    "print(\"\\nrange()를 사용한 반복:\")\n",
    "for i in range(1, 6):\n",
    "    print(f\"{i}번째 실행\")\n",
    "\n",
    "# while 반복문\n",
    "count = 1\n",
    "print(\"\\nwhile 반복문:\")\n",
    "while count <= 5:\n",
    "    print(f\"현재 카운트: {count}\")\n",
    "    count += 1\n",
    "\n",
    "# break와 continue\n",
    "print(\"\\nbreak 예제:\")\n",
    "for i in range(1, 10):\n",
    "    if i == 5:\n",
    "        break\n",
    "    print(i)\n",
    "\n",
    "print(\"\\ncontinue 예제:\")\n",
    "for i in range(1, 6):\n",
    "    if i == 3:\n",
    "        continue\n",
    "    print(i)\n"
   ]
  },
  {
   "cell_type": "markdown",
   "id": "2bbf8b59",
   "metadata": {},
   "source": [
    "## 3. 함수\n",
    "코드의 재사용성을 높이기 위한 중요한 개념이다.\n"
   ]
  },
  {
   "cell_type": "code",
   "execution_count": 19,
   "metadata": {},
   "outputs": [
    {
     "name": "stdout",
     "output_type": "stream",
     "text": [
      "안녕하세요, 철수님!\n",
      "사각형의 넓이: 50\n",
      "이름: 광운, 나이: 18\n",
      "이름: 우니, 나이: 20\n"
     ]
    }
   ],
   "source": [
    "# 함수 정의\n",
    "def greet(name):\n",
    "    \"\"\"인사말을 반환하는 함수\"\"\"\n",
    "    return f\"안녕하세요, {name}님!\"\n",
    "\n",
    "def calculate_area(width, height):\n",
    "    \"\"\"사각형의 넓이를 계산하는 함수\"\"\"\n",
    "    return width * height\n",
    "\n",
    "# 함수 호출\n",
    "message = greet(\"철수\")\n",
    "print(message)\n",
    "\n",
    "area = calculate_area(10, 5)\n",
    "print(f\"사각형의 넓이: {area}\")\n",
    "\n",
    "# 기본 매개변수\n",
    "def introduce(name, age=18):\n",
    "    return f\"이름: {name}, 나이: {age}\"\n",
    "\n",
    "print(introduce(\"광운\"))  # age는 기본값 18 사용\n",
    "print(introduce(\"우니\", 20))  # age를 20으로 지정\n"
   ]
  },
  {
   "cell_type": "markdown",
   "id": "3cf7e16b",
   "metadata": {},
   "source": [
    "## 4. 자료구조\n",
    "\n",
    "### 4.1 리스트 (List)\n",
    "순서가 있는 변경 가능한 데이터 모음이다.\n"
   ]
  },
  {
   "cell_type": "code",
   "execution_count": 20,
   "metadata": {},
   "outputs": [
    {
     "name": "stdout",
     "output_type": "stream",
     "text": [
      "numbers: [1, 2, 3, 4, 5]\n",
      "fruits: ['사과', '바나나', '포도']\n",
      "mixed: [1, 'hello', True, 3.14]\n",
      "첫 번째 과일: 사과\n",
      "마지막 숫자: 5\n",
      "numbers[1:4]: [2, 3, 4]\n",
      "fruits[:2]: ['사과', '바나나']\n",
      "수정된 fruits: ['사과', '오렌지', '포도', '딸기']\n",
      "fruits 길이: 4\n",
      "정렬된 numbers: [5, 4, 3, 2, 1]\n"
     ]
    }
   ],
   "source": [
    "# 리스트 생성과 조작\n",
    "numbers = [1, 2, 3, 4, 5]\n",
    "fruits = [\"사과\", \"바나나\", \"포도\"]\n",
    "mixed = [1, \"hello\", True, 3.14]\n",
    "\n",
    "print(f\"numbers: {numbers}\")\n",
    "print(f\"fruits: {fruits}\")\n",
    "print(f\"mixed: {mixed}\")\n",
    "\n",
    "# 리스트 요소 접근\n",
    "print(f\"첫 번째 과일: {fruits[0]}\")\n",
    "print(f\"마지막 숫자: {numbers[-1]}\")\n",
    "\n",
    "# 리스트 슬라이싱\n",
    "print(f\"numbers[1:4]: {numbers[1:4]}\")\n",
    "print(f\"fruits[:2]: {fruits[:2]}\")\n",
    "\n",
    "# 리스트 수정\n",
    "fruits.append(\"딸기\")  # 추가\n",
    "fruits.insert(1, \"오렌지\")  # 특정 위치에 삽입\n",
    "fruits.remove(\"바나나\")  # 삭제\n",
    "print(f\"수정된 fruits: {fruits}\")\n",
    "\n",
    "# 리스트 길이와 정렬\n",
    "print(f\"fruits 길이: {len(fruits)}\")\n",
    "numbers.sort(reverse=True)  # 내림차순 정렬\n",
    "print(f\"정렬된 numbers: {numbers}\")\n"
   ]
  },
  {
   "cell_type": "markdown",
   "id": "5a2c9993",
   "metadata": {},
   "source": [
    "### 4.2 튜플 (Tuple)과 셋 (Set)\n",
    "튜플은 변경 불가능한 순서 있는 데이터 모음, 셋은 중복을 허용하지 않는 데이터 모음이다.\n"
   ]
  },
  {
   "cell_type": "code",
   "execution_count": 21,
   "metadata": {},
   "outputs": [
    {
     "name": "stdout",
     "output_type": "stream",
     "text": [
      "coordinates: (10, 20)\n",
      "x 좌표: 10\n",
      "fruits_set: {'사과', '바나나', '포도'}\n",
      "수정된 fruits_set: {'딸기', '사과', '포도'}\n",
      "합집합: {1, 2, 3, 4, 5, 6}\n",
      "교집합: {3, 4}\n",
      "차집합: {1, 2}\n"
     ]
    }
   ],
   "source": [
    "# 튜플\n",
    "coordinates = (10, 20)\n",
    "weekdays = (\"월\", \"화\", \"수\", \"목\", \"금\")\n",
    "\n",
    "print(f\"coordinates: {coordinates}\")\n",
    "print(f\"x 좌표: {coordinates[0]}\")\n",
    "\n",
    "# 튜플은 변경 불가능\n",
    "# coordinates[0] = 30  # 오류 발생!\n",
    "\n",
    "# 셋\n",
    "fruits_set = {\"사과\", \"바나나\", \"포도\", \"사과\"}  # 중복 자동 제거\n",
    "print(f\"fruits_set: {fruits_set}\")\n",
    "\n",
    "fruits_set.add(\"딸기\")\n",
    "fruits_set.remove(\"바나나\")\n",
    "print(f\"수정된 fruits_set: {fruits_set}\")\n",
    "\n",
    "# 셋 연산\n",
    "set1 = {1, 2, 3, 4}\n",
    "set2 = {3, 4, 5, 6}\n",
    "print(f\"합집합: {set1 | set2}\")\n",
    "print(f\"교집합: {set1 & set2}\")\n",
    "print(f\"차집합: {set1 - set2}\")\n"
   ]
  },
  {
   "cell_type": "markdown",
   "id": "d5fe60d2",
   "metadata": {},
   "source": [
    "### 4.3 딕셔너리 (Dictionary)\n",
    "키-값 쌍으로 데이터를 저장하는 자료구조이다.\n"
   ]
  },
  {
   "cell_type": "code",
   "execution_count": 22,
   "metadata": {},
   "outputs": [
    {
     "name": "stdout",
     "output_type": "stream",
     "text": [
      "학생 정보: {'name': '김광운', 'age': 18, 'grade': 1, 'subjects': ['국어', '영어', '수학']}\n",
      "이름: 김광운\n",
      "나이: 18\n",
      "수강 과목: ['국어', '영어', '수학']\n",
      "수정된 학생 정보: {'name': '김광운', 'age': 19, 'grade': 1, 'subjects': ['국어', '영어', '수학'], 'school': '광운고등학교'}\n",
      "키 목록: ['name', 'age', 'grade', 'subjects', 'school']\n",
      "값 목록: ['김광운', 19, 1, ['국어', '영어', '수학'], '광운고등학교']\n",
      "항목 목록: [('name', '김광운'), ('age', 19), ('grade', 1), ('subjects', ['국어', '영어', '수학']), ('school', '광운고등학교')]\n",
      "'age' 키가 존재하나요?: True\n",
      "'height' 키가 존재하나요?: False\n"
     ]
    }
   ],
   "source": [
    "# 딕셔너리 생성\n",
    "student = {\n",
    "    \"name\": \"김광운\",\n",
    "    \"age\": 18,\n",
    "    \"grade\": 1,\n",
    "    \"subjects\": [\"국어\", \"영어\", \"수학\"]\n",
    "}\n",
    "\n",
    "print(f\"학생 정보: {student}\")\n",
    "\n",
    "# 딕셔너리 요소 접근\n",
    "print(f\"이름: {student['name']}\")\n",
    "print(f\"나이: {student['age']}\")\n",
    "print(f\"수강 과목: {student['subjects']}\")\n",
    "\n",
    "# 딕셔너리 수정\n",
    "student['age'] = 19\n",
    "student['school'] = \"광운고등학교\"\n",
    "print(f\"수정된 학생 정보: {student}\")\n",
    "\n",
    "# 딕셔너리 메서드\n",
    "print(f\"키 목록: {list(student.keys())}\")\n",
    "print(f\"값 목록: {list(student.values())}\")\n",
    "print(f\"항목 목록: {list(student.items())}\")\n",
    "\n",
    "# 키 존재 확인\n",
    "print(f\"'age' 키가 존재하나요?: {'age' in student}\")\n",
    "print(f\"'height' 키가 존재하나요?: {'height' in student}\")\n"
   ]
  },
  {
   "cell_type": "markdown",
   "id": "d80f1386",
   "metadata": {},
   "source": [
    "## 5. 파일 입출력\n",
    "프로그램에서 파일을 읽고 쓰는 방법을 배워보자.\n"
   ]
  },
  {
   "cell_type": "code",
   "execution_count": 23,
   "metadata": {},
   "outputs": [
    {
     "name": "stdout",
     "output_type": "stream",
     "text": [
      "파일 쓰기 완료!\n",
      "파일 내용:\n",
      "안녕하세요, 파이썬!\n",
      "파일 입출력을 연습하고 있습니다.\n",
      "파이썬 복습 자료입니다.\n",
      "\n",
      "파일을 행 단위로 읽기:\n",
      "- 안녕하세요, 파이썬!\n",
      "- 파일 입출력을 연습하고 있습니다.\n",
      "- 파이썬 복습 자료입니다.\n"
     ]
    }
   ],
   "source": [
    "# 파일 쓰기\n",
    "with open('sample.txt', 'w', encoding='utf-8') as file:\n",
    "    file.write('안녕하세요, 파이썬!\\n')\n",
    "    file.write('파일 입출력을 연습하고 있습니다.\\n')\n",
    "    file.write('고등학교 3학년 파이썬 복습 자료입니다.\\n')\n",
    "\n",
    "print(\"파일 쓰기 완료!\")\n",
    "\n",
    "# 파일 읽기\n",
    "with open('sample.txt', 'r', encoding='utf-8') as file:\n",
    "    content = file.read()\n",
    "    print(\"파일 내용:\")\n",
    "    print(content)\n",
    "\n",
    "# 파일을 리스트로 읽기\n",
    "with open('sample.txt', 'r', encoding='utf-8') as file:\n",
    "    lines = file.readlines()\n",
    "    print(\"파일을 행 단위로 읽기:\")\n",
    "    for line in lines:\n",
    "        print(f\"- {line.strip()}\")\n"
   ]
  },
  {
   "cell_type": "markdown",
   "id": "f764f597",
   "metadata": {},
   "source": [
    "## 7. 모듈과 패키지\n",
    "파이썬의 표준 라이브러리와 외부 라이브러리를 사용하는 방법을 배워보자.\n"
   ]
  },
  {
   "cell_type": "code",
   "execution_count": 24,
   "metadata": {},
   "outputs": [
    {
     "name": "stdout",
     "output_type": "stream",
     "text": [
      "원주율: 3.141592653589793\n",
      "제곱근: 4.0\n",
      "팩토리얼: 120\n",
      "섞인 숫자들: [5, 4, 3, 2, 1]\n",
      "랜덤 선택: 가위\n",
      "현재 날짜와 시간: 2025-10-22 19:22:29.217042\n",
      "현재 날짜: 2025-10-22\n",
      "현재 시간: 19:22:29.217042\n",
      "sqrt(25) = 5.0\n",
      "pi = 3.141592653589793\n"
     ]
    }
   ],
   "source": [
    "# 표준 라이브러리 사용\n",
    "import math\n",
    "import random\n",
    "import datetime\n",
    "\n",
    "# math 모듈\n",
    "print(f\"원주율: {math.pi}\")\n",
    "print(f\"제곱근: {math.sqrt(16)}\")\n",
    "print(f\"팩토리얼: {math.factorial(5)}\")\n",
    "\n",
    "# random 모듈\n",
    "numbers = [1, 2, 3, 4, 5]\n",
    "random.shuffle(numbers)\n",
    "print(f\"섞인 숫자들: {numbers}\")\n",
    "print(f\"랜덤 선택: {random.choice(['가위', '바위', '보'])}\")\n",
    "\n",
    "# datetime 모듈\n",
    "now = datetime.datetime.now()\n",
    "print(f\"현재 날짜와 시간: {now}\")\n",
    "print(f\"현재 날짜: {now.date()}\")\n",
    "print(f\"현재 시간: {now.time()}\")\n",
    "\n",
    "# 모듈의 특정 함수만 가져오기\n",
    "from math import sqrt, pi\n",
    "print(f\"sqrt(25) = {sqrt(25)}\")\n",
    "print(f\"pi = {pi}\")\n"
   ]
  },
  {
   "cell_type": "markdown",
   "id": "63a8482b",
   "metadata": {},
   "source": [
    "## 실습 문제"
   ]
  },
  {
   "cell_type": "code",
   "execution_count": 25,
   "metadata": {},
   "outputs": [],
   "source": [
    "# 문제 1: 리스트에서 짝수만 추출하여 새로운 리스트 만들기\n",
    "numbers = [1, 2, 3, 4, 5, 6, 7, 8, 9, 10]\n",
    "# 여기에 코드를 작성하세요\n",
    "\n",
    "# 문제 2: 딕셔너리를 사용하여 학생 성적 관리하기\n",
    "# 이름과 성적을 저장하고 평균을 계산하세요\n",
    "# 여기에 코드를 작성하세요\n",
    "\n",
    "# 문제 3: 함수를 만들어 구구단 출력하기\n",
    "# 원하는 단을 입력받아 해당 구구단을 출력하는 함수를 만들어보세요\n",
    "# 여기에 코드를 작성하세요\n",
    "\n",
    "# 문제 4: 파일에 일기 쓰기\n",
    "# 오늘의 날씨와 기분을 파일에 기록하는 프로그램을 만들어보세요\n",
    "# 여기에 코드를 작성하세요\n"
   ]
  },
  {
   "cell_type": "markdown",
   "id": "1d664421",
   "metadata": {},
   "source": [
    "## 마무리\n",
    "\n",
    "축하합니다! 파이썬 기초 복습을 완료했습니다.\n",
    "\n",
    "### 오늘 배운 주요 개념:\n",
    "- 변수와 자료형\n",
    "- 연산자\n",
    "- 조건문과 반복문\n",
    "- 함수\n",
    "- 리스트, 튜플, 셋, 딕셔너리\n",
    "- 리스트 컴프리헨션\n",
    "- 파일 입출력\n",
    "- 예외 처리\n",
    "- 모듈과 패키지\n",
    "\n",
    "꾸준한 연습으로 파이썬 실력을 향상시켜보세요! 🚀\n"
   ]
  }
 ],
 "metadata": {
  "kernelspec": {
   "display_name": "env",
   "language": "python",
   "name": "python3"
  },
  "language_info": {
   "codemirror_mode": {
    "name": "ipython",
    "version": 3
   },
   "file_extension": ".py",
   "mimetype": "text/x-python",
   "name": "python",
   "nbconvert_exporter": "python",
   "pygments_lexer": "ipython3",
   "version": "3.13.7"
  }
 },
 "nbformat": 4,
 "nbformat_minor": 5
}
