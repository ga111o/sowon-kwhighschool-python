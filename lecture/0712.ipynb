{
 "cells": [
  {
   "cell_type": "code",
   "execution_count": 3,
   "metadata": {},
   "outputs": [
    {
     "name": "stdout",
     "output_type": "stream",
     "text": [
      "<Response [200]>\n"
     ]
    }
   ],
   "source": [
    "import requests\n",
    "url = \"https://www.google.com/\"\n",
    "resp = requests.get(url)\n",
    "print(resp)"
   ]
  },
  {
   "cell_type": "code",
   "execution_count": 6,
   "metadata": {},
   "outputs": [
    {
     "data": {
      "text/plain": [
       "str"
      ]
     },
     "execution_count": 6,
     "metadata": {},
     "output_type": "execute_result"
    }
   ],
   "source": [
    "type(resp)"
   ]
  },
  {
   "cell_type": "code",
   "execution_count": 7,
   "metadata": {},
   "outputs": [
    {
     "name": "stdout",
     "output_type": "stream",
     "text": [
      "<!doctype html>\n",
      "<html>\n",
      "<head>\n",
      "    <title>Example Domain</title>\n",
      "\n",
      "    <meta charset=\"utf-8\" />\n",
      "    <meta http-equiv=\"Content-type\" content=\"text/html; charset=utf-8\" />\n",
      "    <meta name=\"viewport\" content=\"width=device-width, initial-scale=1\" />\n",
      "    <style type=\"text/css\">\n",
      "    body {\n",
      "        background-color: #f0f0f2;\n",
      "        margin: 0;\n",
      "        padding: 0;\n",
      "        font-family: -apple-system, system-ui, BlinkMacSystemFont, \"Segoe UI\", \"Open Sans\", \"Helvetica Neue\", Helvetica, Arial, sans-serif;\n",
      "        \n",
      "    }\n",
      "    div {\n",
      "        width: 600px;\n",
      "        margin: 5em auto;\n",
      "        padding: 2em;\n",
      "        background-color: #fdfdff;\n",
      "        border-radius: 0.5em;\n",
      "        box-shadow: 2px 3px 7px 2px rgba(0,0,0,0.02);\n",
      "    }\n",
      "    a:link, a:visited {\n",
      "        color: #38488f;\n",
      "        text-decoration: none;\n",
      "    }\n",
      "    @media (max-width: 700px) {\n",
      "        div {\n",
      "            margin: 0 auto;\n",
      "            width: auto;\n",
      "        }\n",
      "    }\n",
      "    </style>    \n",
      "</head>\n",
      "\n",
      "<body>\n",
      "<div>\n",
      "    <h1>Example Domain</h1>\n",
      "    <p>This domain is for use in illustrative examples in documents. You may use this\n",
      "    domain in literature without prior coordination or asking for permission.</p>\n",
      "    <p><a href=\"https://www.iana.org/domains/example\">More information...</a></p>\n",
      "</div>\n",
      "</body>\n",
      "</html>\n",
      "\n"
     ]
    }
   ],
   "source": [
    "import requests\n",
    "url = \"https://www.example.com\"\n",
    "resp = requests.get(url)\n",
    "print(resp.text)"
   ]
  },
  {
   "cell_type": "code",
   "execution_count": 11,
   "metadata": {},
   "outputs": [
    {
     "name": "stdout",
     "output_type": "stream",
     "text": [
      "<title>네이버 날씨</title>\n",
      "<p class=\"interest_head_text\">\n",
      "                        별 모양 버튼을 클릭해 관심지역으로 추가할 수 있습니다.\n",
      "                    </p>\n",
      "<p class=\"interest_head_text\">\n",
      "                        별 모양 버튼을 클릭해 관심지역으로 추가할 수 있습니다.\n",
      "                    </p>\n"
     ]
    }
   ],
   "source": [
    "from bs4 import BeautifulSoup\n",
    "\n",
    "url = \"https://weather.naver.com/\"\n",
    "resp = requests.get(url)\n",
    "\n",
    "soup = BeautifulSoup(resp.text,'html.parser')\n",
    "print(soup.find('title'))\n",
    "\n",
    "\n",
    "\n",
    "print(soup.find_all('p')[0])\n",
    "print(soup.find('p'))"
   ]
  },
  {
   "cell_type": "code",
   "execution_count": 24,
   "metadata": {},
   "outputs": [
    {
     "name": "stdout",
     "output_type": "stream",
     "text": [
      "[]\n"
     ]
    }
   ],
   "source": [
    "data = soup.find_all(id = \"hourly\")\n",
    "print(data)\n",
    "# data = soup.find_all(class_ = \"section_wrap section_center weather_area _cnBlockTemplate weather_now summary_img ico_animation ico_animation_wt7\")\n",
    "# print(data)"
   ]
  },
  {
   "cell_type": "code",
   "execution_count": 19,
   "metadata": {},
   "outputs": [
    {
     "name": "stdout",
     "output_type": "stream",
     "text": [
      "[]\n"
     ]
    }
   ],
   "source": [
    "import re\n",
    "data = soup.find_all(string = re.compile('13시'))\n",
    "print(data)"
   ]
  },
  {
   "cell_type": "code",
   "execution_count": 20,
   "metadata": {},
   "outputs": [
    {
     "name": "stdout",
     "output_type": "stream",
     "text": [
      "<title>Russian-born couple charged with spying offense in Australia | CNN</title>\n",
      "<p class=\"paragraph inline-placeholder vossi-paragraph-primary-core-light\" data-article-gutter=\"true\" data-component-name=\"paragraph\" data-editable=\"text\" data-uri=\"cms.cnn.com/_components/paragraph/instances/clyhxi3ao000mlenq70qy6b6o@published\">\n",
      "<a href=\"https://www.cnn.com/world/australia\">Australia</a> has charged two Russian-born Australian citizens with preparing for an espionage offense after allegedly obtaining information from the Australian Defence Force (ADF) that they planned to hand to Russian authorities.\n",
      "    </p>\n",
      "<p class=\"paragraph inline-placeholder vossi-paragraph-primary-core-light\" data-article-gutter=\"true\" data-component-name=\"paragraph\" data-editable=\"text\" data-uri=\"cms.cnn.com/_components/paragraph/instances/clyhxi3ao000mlenq70qy6b6o@published\">\n",
      "<a href=\"https://www.cnn.com/world/australia\">Australia</a> has charged two Russian-born Australian citizens with preparing for an espionage offense after allegedly obtaining information from the Australian Defence Force (ADF) that they planned to hand to Russian authorities.\n",
      "    </p>\n"
     ]
    }
   ],
   "source": [
    "from bs4 import BeautifulSoup\n",
    "\n",
    "url = \"https://edition.cnn.com/2024/07/11/australia/russian-born-couple-charged-australia-intl-hnk/index.html\"\n",
    "resp = requests.get(url)\n",
    "\n",
    "soup = BeautifulSoup(resp.text,'html.parser')\n",
    "print(soup.find('title'))\n",
    "\n",
    "\n",
    "\n",
    "print(soup.find_all('p')[0])\n",
    "print(soup.find('p'))"
   ]
  },
  {
   "cell_type": "code",
   "execution_count": 22,
   "metadata": {},
   "outputs": [
    {
     "name": "stdout",
     "output_type": "stream",
     "text": [
      "['Russian-born couple charged with spying offense in Australia | CNN', '\\n  window.CNN = window.CNN || {};\\n  window.CNN.ads = {\"lazyLoad\":true,\"registry\":[{\"rktr_deployed_date\":\"2024-07-11 22:19:00\",\"rktr_slot_id\":\"page\",\"rktr_id\":\"cnni_leaf\",\"gpt_id\":\"8663477\",\"site\":\"cnni_2\",\"root\":\"CNNI\",\"child_directed_treatment\":false,\"targeting\":[]},{\"rktr_slot_id\":\"ad_bnr_atf_01\",\"rktr_ad_id\":\"CNNi/world/australia/leaf\",\"sizes\":[[1,1],[1,2],[2,2],[320,50],[728,90],[970,66],[970,90],[970,250],[\"fluid\"]],\"targeting\":[[\"pos\",[\"bnr_atf_01\"]]],\"responsive\":[[[\"1024\",\"0\"],[[\"970\",\"250\"],[\"970\",\"90\"],[\"970\",\"66\"],[\"728\",\"90\"],[\"2\",\"2\"],[\"1\",\"2\"],[\"1\",\"1\"],[\"fluid\"]]],[[\"728\",\"0\"],[[\"970\",\"250\"],[\"970\",\"90\"],[\"970\",\"66\"],[\"728\",\"90\"],[\"2\",\"2\"],[\"1\",\"2\"],[\"1\",\"1\"],[\"fluid\"]]],[[\"0\",\"0\"],[[\"320\",\"50\"],[\"2\",\"2\"],[\"1\",\"2\"],[\"1\",\"1\"],[\"fluid\"]]]]},{\"rktr_slot_id\":\"ad_rect_atf_01\",\"rktr_ad_id\":\"CNNi/world/australia/leaf\",\"sizes\":[[1,1],[1,2],[300,250],[300,600],[300,850],[300,1050],[\"fluid\"]],\"targeting\":[[\"pos\",[\"rect_atf_01\"]]],\"responsive\":[[[\"1024\",\"0\"],[[\"300\",\"1050\"],[\"300\",\"850\"],[\"300\",\"600\"],[\"300\",\"250\"],[\"1\",\"2\"],[\"fluid\"]]],[[\"728\",\"0\"],[[\"300\",\"600\"],[\"300\",\"250\"],[\"1\",\"2\"],[\"fluid\"]]],[[\"0\",\"0\"],[[\"300\",\"600\"],[\"300\",\"250\"],[\"1\",\"2\"]]]]},{\"rktr_slot_id\":\"ad_rect_btf_01\",\"rktr_ad_id\":\"CNNi/world/australia/leaf\",\"sizes\":[[1,2],[300,250],[300,251],[300,600],[300,601],[\"fluid\"]],\"targeting\":[[\"pos\",[\"rect_btf_01\"]]],\"responsive\":[[[\"1024\",\"0\"],[[\"300\",\"600\"],[\"300\",\"250\"],[\"1\",\"2\"],[\"fluid\"]]],[[\"728\",\"0\"],[[\"300\",\"600\"],[\"300\",\"250\"],[\"1\",\"2\"],[\"fluid\"]]],[[\"0\",\"0\"],[[\"300\",\"600\"],[\"300\",\"251\"],[\"300\",\"250\"],[\"1\",\"2\"],[\"fluid\"]]]]},{\"rktr_slot_id\":\"ad_rect_btf_02\",\"rktr_ad_id\":\"CNNi/world/australia/leaf\",\"sizes\":[[1,1],[1,2],[300,250],[300,600],[320,320],[\"fluid\"]],\"targeting\":[[\"pos\",[\"rect_btf_02\"]]],\"responsive\":[[[\"1024\",\"0\"],[[\"300\",\"600\"],[\"300\",\"250\"],[\"fluid\"]]],[[\"728\",\"0\"],[[\"300\",\"600\"],[\"300\",\"250\"],[\"fluid\"]]],[[\"0\",\"0\"],[[\"320\",\"320\"],[\"300\",\"250\"],[\"1\",\"2\"],[\"fluid\"]]]]},{\"rktr_slot_id\":\"ad_nat_btf_01\",\"rktr_ad_id\":\"CNNi/world/australia/leaf\",\"sizes\":[[1,1],[1,2],[\"fluid\"]],\"targeting\":[[\"pos\",[\"nat_btf_01\"]]],\"responsive\":[[[\"1024\",\"0\"],[[\"1\",\"2\"],[\"1\",\"1\"],[\"fluid\"]]],[[\"728\",\"0\"],[[\"1\",\"2\"],[\"1\",\"1\"],[\"fluid\"]]],[[\"0\",\"0\"],[[\"1\",\"2\"],[\"1\",\"1\"],[\"fluid\"]]]]},{\"rktr_slot_id\":\"ad_ns_atf_01\",\"rktr_ad_id\":\"CNNi/world/australia/leaf\",\"sizes\":[[200,60]],\"targeting\":[[\"pos\",[\"ns_atf_01\"]]],\"responsive\":[[[\"1024\",\"0\"],[[\"200\",\"60\"]]],[[\"728\",\"0\"],[[\"200\",\"60\"]]],[[\"0\",\"0\"],[[\"200\",\"60\"]]]]},{\"rktr_slot_id\":\"ad_out_vid_01\",\"rktr_ad_id\":\"CNNi/world/australia/leaf\",\"sizes\":[[1,1],[1,2],[320,180],[640,360]],\"targeting\":[[\"pos\",[\"out_vid_01\"]]],\"responsive\":[[[\"1024\",\"0\"],[[\"640\",\"360\"],[\"1\",\"2\"],[\"1\",\"1\"]]],[[\"728\",\"0\"],[[\"640\",\"360\"],[\"1\",\"2\"],[\"1\",\"1\"]]],[[\"0\",\"0\"],[[\"320\",\"180\"],[\"1\",\"2\"],[\"1\",\"1\"]]]]},{\"rktr_slot_id\":\"ad_nat_related_01\",\"rktr_ad_id\":\"CNNi/world/australia/leaf\",\"sizes\":[[1,1],[1,2],[\"fluid\"]],\"targeting\":[[\"pos\",[\"nat_related_01\"]]],\"responsive\":[[[\"1024\",\"0\"],[[\"1\",\"2\"],[\"1\",\"1\"],[\"fluid\"]]],[[\"728\",\"0\"],[[\"1\",\"2\"],[\"1\",\"1\"],[\"fluid\"]]],[[\"0\",\"0\"],[[\"1\",\"2\"],[\"1\",\"1\"],[\"fluid\"]]]]}],\"registryPath\":\"international/world/australia/leaf\",\"showAds\":true,\"rktr_ad_id\":\"CNNi/world/australia/leaf\"};\\n  window.CNN.cep_topics = {\"cep_brsf\":[\"15LP\",\"15P9\"],\"cep_iabt\":[\"15H3\",\"15HT\"],\"cep_sent\":[\"16BC\"],\"cep_tags\":[\"2PCF\",\"2JP8\",\"9X2\",\"FHW\",\"6GL\",\"65P\",\"KKV\",\"6GK\",\"65M\",\"6HF\",\"7WP\",\"DF7\",\"21X\",\"DD4\",\"7WN\",\"534\",\"DG2\",\"350\",\"53P\"],\"source_id\":\"article_clyhxi3a00000lenq4oxq91h9\",\"short_source_id\":\"ar_clyhxi3a00000lenq4oxq91h9\"};\\n  window.CNN.contentModel = {\\n    _wedgerId: \\'\\',\\n    _wedgerLegacyCmsId: \\'\\',\\n    analytics: {\\n      authors: \\'Hilary Whiteman\\',\\n      chartbeat: {\\n        sections: \\'world\\'\\n      }\\n    },\\n    author: \\'Hilary Whiteman\\',\\n    brandSite: \\'cnn\\',\\n    branding: {\\n      key: \\'\\',\\n      spec: \\'\\',\\n      displayName: \\'\\'\\n    },\\n    canonicalUrl: \\'https://www.cnn.com/2024/07/11/australia/russian-born-couple-charged-australia-intl-hnk/index.html\\',\\n    pageStellarId: \\'L19wYWdlcy9jbHloeGkzYTAwMDAwbGVucTRveHE5MWg5\\',\\n    firstCanonicalUrl: \\'https://www.cnn.com/2024/07/11/australia/russian-born-couple-charged-australia-intl-hnk/index.html\\',\\n    cmsId: document.querySelector(\\'html\\').dataset.uri,\\n    commentsEnabled: \\'false\\',\\n    edition: true,\\n    environment: \\'prod\\',\\n    headline: \\'Russian-born couple charged with spying offense in Australia\\',\\n    isSponsorship: false,\\n    last_updated_date: \\'2024-07-12T01:46:54.284Z\\',\\n    pageType: \\'article\\',\\n    pageTags: \\'\\',\\n    published_date: \\'2024-07-12T00:08:34.619Z\\',\\n    section: \\'world\\',\\n    subsection: \\'australia\\',\\n    subsubsection: \\'\\',\\n    sourceId: \\'cms.cnn.com/_pages/clyhxi3a00000lenq4oxq91h9@published\\',\\n    techStack: \\'stellar2.0\\',\\n    templateType: \\'article_leaf\\',\\n    vertical: \\'world\\'\\n  };\\n  window.CNN.omniture = {\\n    ...(window.CNN.omniture || {}),\\n    branding_content_page: \\'\\',\\n    cap_author: \\'Hilary Whiteman\\',\\n    cap_content_type: \\'article_leaf\\',\\n    content_id: document.querySelector(\\'html\\').dataset.uri,\\n    content_type: \\'adbp:none\\',\\n    gallery_name: \\'\\',\\n    headline: \\'Russian-born couple charged with spying offense in Australia\\',\\n    last_updated_date: \\'2024/07/12\\',\\n    publish_date: \\'2024/07/12\\',\\n    rs_flag: \\'prod\\',\\n    section: [\\n        \\'world\\',\\n        \\'australia\\',\\n        \\'\\'\\n    ],\\n    source_id: \\'cms.cnn.com/_pages/clyhxi3a00000lenq4oxq91h9@published\\',\\n    template_type: \\'article_leaf\\',\\n    video_opportunity: document.querySelectorAll(\\'*[data-uri*=\"/_components/video-resource/\"]\\').length,\\n    \\n    cap_genre: \\'\\',\\n    cap_topic: \\'\\',\\n    screen_state: \\'default\\'\\n  };\\n\\n  window.CNN.metadata = {\"content\":{\"author\":[\"Hilary Whiteman\"],\"branding\":[],\"byline\":\"By Hilary Whiteman, CNN\",\"canonicalUrl\":\"https://www.cnn.com/2024/07/11/australia/russian-born-couple-charged-australia-intl-hnk/index.html\",\"firstCanonicalUrl\":\"https://www.cnn.com/2024/07/11/australia/russian-born-couple-charged-australia-intl-hnk/index.html\",\"headline\":\"Russian-born couple charged with spying offense in Australia\",\"identifiers\":{\"pageStellarId\":\"L19wYWdlcy9jbHloeGkzYTAwMDAwbGVucTRveHE5MWg5\"},\"pageType\":\"article\",\"pageVariant\":\"article_leaf\",\"publishDateCreated\":\"2024-07-11T23:57:21.821Z\",\"publishDatePublished\":\"2024-07-12T00:08:34.619Z\",\"publishDateModified\":\"2024-07-12T01:46:54.284Z\",\"section\":[\"world\",\"australia\"],\"topics\":{\"cepBrsf\":[\"15LP\",\"15P9\"],\"cepIabt\":[\"15H3\",\"15HT\"],\"cepOther\":[\"2PCF\",\"2JP8\",\"9X2\",\"FHW\",\"6GL\",\"65P\",\"KKV\",\"6GK\",\"65M\",\"6HF\",\"7WP\",\"DF7\",\"21X\",\"DD4\",\"7WN\",\"534\",\"DG2\",\"350\",\"53P\"],\"cepSent\":[\"16BC\"],\"cnnSections\":[\"world\",\"australia\"],\"tags\":[]},\"vertical\":\"world\",\"leadingMediaType\":\"image\",\"image\":[{\"identifiers\":{}},{\"identifiers\":{}}]}}\\n\\n    window.ntvConfig = window.ntvConfig || {};\\n    window.ntvConfig.keyValues = {\\n      ...(window.ntvConfig.keyValues || {}),\\'section\\': `world`,\\'subsection\\': `australia`,\\'page_type\\': `article_leaf`,\\'spec\\': ``,\\'cep_brsf\\': `15LP,15P9`,\\'cep_iabt\\': `15H3,15HT`,\\'cep_sent\\': `16BC`,\\'cep_tags\\': `2PCF,2JP8,9X2,FHW,6GL,65P,KKV,6GK,65M,6HF,7WP,DF7,21X,DD4,7WN,534,DG2,350,53P`,};\\n\\n    window.CNN.Zion = {\\n      ...(window.CNN.Zion || {}),\\'apiKey\\': `mXFw59FFEpUNOu3aeVJChKAsqAlZ4NEf`,\\'environmentType\\': `Prod`,\\'sourceId\\': `cms.cnn.com/_pages/clyhxi3a00000lenq4oxq91h9@published`,};\\n\\n\\nwindow.CNN.helpers = {\\n  PAGE_VARIANTS: {\"ARTICLE_COMMS\":\"article_comms\",\"ARTICLE_FEATURE\":\"article_feature\",\"ARTICLE_FULLWIDTH\":\"article_fullwidth\",\"ARTICLE_RADIO_ARGENTINA\":\"article_radio_argentina\",\"ARTICLE\":\"article_leaf\",\"GALLERY_UNFURLED\":\"gallery_unfurled\",\"GALLERY\":\"gallery_leaf\",\"HOMEPAGE\":\"landing_homepage\",\"LIVESTORY\":\"article_livestory\",\"TV_CHANNELS\":\"tv_channels\",\"PROFILE\":\"profile\",\"SECTION\":\"landing_section\",\"TVE_FILM\":\"detail\",\"TVE_SERIES\":\"series\",\"TVE_STREAM\":\"network\",\"GENERAL_TOPIC\":\"topic_light\",\"GRIP_TOPIC\":\"topic_grid\",\"SPOTLIGHT_TOPIC\":\"topic_full\",\"ELECTION\":\"election\",\"MARKETS\":\"markets\",\"SPONSOR_ARTICLE\":\"article_sponsor\",\"TVE_BROWSE\":\"browse\",\"VIDEO\":\"video_leaf\",\"VIDEO_SHOW\":\"video_show\",\"UNKNOWN\":\"\"},\\n  PAGE_TYPES: {\"ARTICLE\":\"article\",\"AUDIO\":\"audio\",\"CUSTOM\":\"custom\",\"ELECTION\":\"election-center\",\"FEED\":\"feed\",\"GALLERY\":\"gallery\",\"INTERACTIVE\":\"interactive\",\"LIVESTORY\":\"live-story\",\"NEWSLETTER_LANDING_PAGE\":\"newsletter-landing-page\",\"PROFILE\":\"profile\",\"SCRATCHPAD\":\"scratchpad\",\"SEARCH\":\"search\",\"SECTION\":\"section\",\"STATIC\":\"static\",\"TVE\":\"tve\",\"UNKNOWN\":\"\",\"USER_MANAGEMENT\":\"user-management\",\"VERTICAL_VIDEO\":\"vertical-video\",\"VIDEO\":\"video\"},\\n  SECTIONS: {\"US\":\"us\",\"WORLD\":\"world\",\"POLITICS\":\"politics\",\"BUSINESS\":\"business\",\"OPINIONS\":\"opinions\",\"HEALTH\":\"health\",\"ENTERTAINMENT\":\"entertainment\",\"STYLE\":\"style\",\"TRAVEL\":\"travel\",\"HOMEPAGE\":\"homepage\",\"SPORTS\":\"sport\",\"UNDERSCORED\":\"cnn-underscored\",\"WEATHER\":\"weather\",\"PHOTOS\":\"photos\",\"PROFILES\":\"profiles\",\"TV\":\"tv\",\"LIVING\":\"living\",\"NEWSLETTERS\":\"newsletters\",\"SCIENCE\":\"science\",\"CLIMATE\":\"climate\",\"UNKNOWN\":\"\"},\\n  isSection: function isSection(sections) {\\n  return (!Array.isArray(sections) ? [sections] : sections).includes(\\n    window.CNN.contentModel?.section || window.CNN.helpers?.SECTIONS.UNKNOWN\\n  );\\n},\\n  isPageVariant: function isPageVariant(pageVariants) {\\n  return (!Array.isArray(pageVariants) ? [pageVariants] : pageVariants).includes(\\n    window.CNN.contentModel?.templateType || window.CNN.helpers?.PAGE_VARIANTS.UNKNOWN\\n  );\\n},\\n  isPageType: function isPageType(pageTypes) {\\n  return (!Array.isArray(pageTypes) ? [pageTypes] : pageTypes).includes(\\n    window.CNN.contentModel?.pageType || window.CNN.helpers?.PAGE_TYPES.UNKNOWN\\n  );\\n},\\n  isEditionPage: function isEditionPage() {\\n  return window.CNN.contentModel?.edition;\\n},\\n  isEspanolPage: function isEspanolPage() {\\n  return window.CNN.contentModel?.brandSite === \\'es\\';\\n},\\n  addScriptTag: function addScriptTag(options = {}, prependToBody = false) {\\n  const script = document.createElement(\\'script\\');\\n\\n  const opts = {\\n    language: \\'javascript\\',\\n    type: \\'text/javascript\\',\\n    ...options\\n  };\\n\\n  Object.keys(opts).forEach((key) => {\\n    if (key === \\'data\\') {\\n      const { data } = opts;\\n      Object.keys(data).forEach((dataKey) => {\\n        if (data[dataKey]) {\\n          script.setAttribute(`data-${dataKey}`, data[dataKey]);\\n        }\\n      });\\n    } else {\\n      script[key] = opts[key];\\n    }\\n  });\\n\\n  if (prependToBody) {\\n    document.body.prepend(script);\\n  } else {\\n    document.head.append(script);\\n  }\\n  return script;\\n},\\n  getAdfuelSrc: (body = false) => {\\n  let src;\\n  if (window.CNN.helpers.isEspanolPage()) {\\n    src = window.env.ADFUEL_ESPANOL_SRC;\\n  } else if (window.CNN.helpers.isSection(window.CNN.helpers.SECTIONS.BUSINESS)) {\\n    src = window.CNN.helpers.isEditionPage()\\n      ? window.env.ADFUEL_BUSINESS_EDITION_SRC\\n      : window.env.ADFUEL_BUSINESS_SRC;\\n  } else {\\n    src = window.CNN.helpers.isEditionPage()\\n      ? window.env.ADFUEL_CNN_EDITION_SRC\\n      : window.env.ADFUEL_CNN_SRC;\\n  }\\n\\n  const filename = src.find((bundle) =>\\n    body ? bundle.includes(`-body`) : !bundle.includes(\\'-body\\')\\n  );\\n\\n  return filename || \\'\\';\\n}\\n};\\n\\n', '{\"@type\":\"NewsArticle\",\"@context\":\"https://schema.org\",\"articleBody\":\"Australia has charged two Russian-born Australian citizens with preparing for an espionage offense after allegedly obtaining information from the Australian Defence Force (ADF) that they planned to hand to Russian authorities. The citizens, a married couple, had been in Australia for more than 10 years and were arrested Thursday at their home in Everton Park, a northern suburb of Brisbane, according to the Australian Federal Police (AFP) and the Australian Security Intelligence Organisation (ASIO). The Russian-born woman, 40, was an army private working as an information systems technician with the ADF for several years, the agencies said in a joint news conference on Friday. She became an Australian citizen in 2016, and her Russian-born husband, 62, a self-employed laborer, obtained Australian citizenship in 2020, they added. “The AFP will allege the individuals worked together to access Australian Defence Force material that related to Australia’s national security interests,” said AFP Commissioner Reece Kershaw. “No significant compromise,” had been identified and no other individuals appeared to be involved, Kershaw added, though he said the investigation was in its early stages. The couple were not named by authorities, but both are expected to appear in court later on Friday. Australian Federal Police will allege the woman went to Russia without notifying Australian authorities while she was on long-term leave from the ADF last year. “We allege that while she was in Russia, she instructed her husband, who remained in Australia, on how to log into her official work account from their Brisbane home,” Kershaw said. “We allege her husband would access requested material and would send [it] to his wife in Russia. We allege they sought that information with the intention of providing it to Russian authorities.” Kershaw said a key focus of the investigation is whether that information was handed over to Russian authorities. If it was, the charge could be upgraded to espionage. The investigation will include how the woman obtained security clearance to access sensitive ADF material, and how she was able to bypass systems to apparently travel undetected to Russia. “There was some misleading on her behalf of where she was allegedly at and what country,” Kershaw said. It’s the first time an espionage offense has been used since new laws were introduced in 2018. The charge of preparing for an espionage offense carries a maximum penalty of 15 years in prison.\\xa0An upgraded charge carries a maximum term of 25 years in prison to life. ASIO Director-General Mike Burgess said the arrests demonstrated the strength of Australia’s national security culture, not its deficiency. “The espionage threat is real. Multiple countries are seeking to steal Australia’s secrets. We cannot be naive and we cannot be complacent,” he said. This is a developing story and will be updated.\",\"articleSection\":[\"world\",\"australia\"],\"author\":[{\"@type\":\"Person\",\"name\":\"Hilary Whiteman\",\"url\":\"\"}],\"dateModified\":\"2024-07-12T01:46:54.284Z\",\"description\":\"Australia has charged two Russian-born Australian citizens with preparing for an espionage offense after allegedly obtaining information from the Australian Defence Force that they were intending to hand to Russian authorities.\",\"headline\":\"Russian-born couple charged with spying offense in Australia\",\"image\":[{\"@type\":\"ImageObject\",\"contentUrl\":\"https://media.cnn.com/api/v1/images/stellar/prod/op-burgazada.jpg?c=original\",\"caption\":\"An image released by the AFP shows the male suspect being led by police.\",\"sourceOrganization\":{\"@type\":\"Organization\",\"name\":\"Australian Federal Police\"},\"width\":\"3378\",\"height\":\"1901\",\"creditText\":\"Australian Federal Police\"},{\"@type\":\"ImageObject\",\"contentUrl\":\"https://media.cnn.com/api/v1/images/stellar/prod/20240712-asio-afp-12.jpg?c=original\",\"caption\":\"AFP Commissioner Reece Kershaw speaks to the media after two Russian-born Australians were charged with a spying offense.\",\"sourceOrganization\":{\"@type\":\"Organization\",\"name\":\"Australian Federal Police\"},\"width\":\"7535\",\"height\":\"5026\",\"creditText\":\"Australian Federal Police\",\"dateCreated\":\"2024-07-12T04:00:00.000Z\"},{\"@type\":\"ImageObject\",\"contentUrl\":\"https://media.cnn.com/api/v1/images/stellar/prod/op-burgazada.jpg?c=original\",\"caption\":\"The male suspect in an espionage case is led away by Australian police.\",\"sourceOrganization\":{\"@type\":\"Organization\",\"name\":\"Australian Federal Police\"},\"width\":\"3378\",\"height\":\"1901\",\"creditText\":\"Australian Federal Police\"}],\"thumbnailUrl\":\"https://media.cnn.com/api/v1/images/stellar/prod/op-burgazada.jpg?c=original\",\"inLanguage\":\"en\",\"mainEntityOfPage\":{\"@type\":\"WebPage\",\"@context\":\"https://schema.org\",\"url\":\"https://www.cnn.com/2024/07/11/australia/russian-born-couple-charged-australia-intl-hnk/index.html\",\"dateModified\":\"2024-07-12T01:46:54.284Z\",\"inLanguage\":\"en\",\"additionalType\":\"article_leaf\",\"publisher\":{\"@type\":\"NewsMediaOrganization\",\"name\":\"CNN\",\"logo\":\"https://media.cnn.com/api/v1/images/stellar/prod/cnnlogo.png?q=w_60,h_61\",\"foundingDate\":\"1980-06-01\",\"url\":\"https://www.cnn.com\",\"sameAs\":[\"https://www.facebook.com/cnn/\",\"https://twitter.com/CNN\",\"https://www.instagram.com/cnn/\",\"https://www.youtube.com/cnn\"]},\"name\":\"Russian-born couple charged with spying offense in Australia\",\"headline\":\"Russian-born couple charged with spying offense in Australia\",\"description\":\"Australia has charged two Russian-born Australian citizens with preparing for an espionage offense after allegedly obtaining information from the Australian Defence Force that they were intending to hand to Russian authorities.\",\"datePublished\":\"2024-07-12T00:08:34.619Z\"},\"publisher\":{\"@type\":\"NewsMediaOrganization\",\"name\":\"CNN\",\"logo\":\"https://media.cnn.com/api/v1/images/stellar/prod/cnnlogo.png?q=w_60,h_61\",\"foundingDate\":\"1980-06-01\",\"url\":\"https://www.cnn.com\",\"sameAs\":[\"https://www.facebook.com/cnn/\",\"https://twitter.com/CNN\",\"https://www.instagram.com/cnn/\",\"https://www.youtube.com/cnn\"]},\"timeRequired\":\"P0Y0M0DT0H2M2S\",\"wordCount\":458,\"datePublished\":\"2024-07-12T00:08:34.619Z\",\"isAccessibleForFree\":false,\"hasPart\":{\"@type\":\"WebPageElement\",\"isAccessibleForFree\":false,\"cssSelector\":\".article__content\"}}', '\\n      Russian-born couple charged with spying offense in Australia\\n    ', 'AFP Commissioner Reece Kershaw speaks to the media after two Russian-born Australians were charged with a spying offense.']\n"
     ]
    }
   ],
   "source": [
    "import re\n",
    "data = soup.find_all(string = re.compile('spy+'))\n",
    "print(data)"
   ]
  },
  {
   "cell_type": "code",
   "execution_count": 29,
   "metadata": {},
   "outputs": [
    {
     "name": "stdout",
     "output_type": "stream",
     "text": [
      "Hollys store crawling\n",
      "https://www.hollys.co.kr/store/korea/korStore2.do?pageNo=1&sido=&gugun=&store=\n",
      "https://www.hollys.co.kr/store/korea/korStore2.do?pageNo=2&sido=&gugun=&store=\n",
      "https://www.hollys.co.kr/store/korea/korStore2.do?pageNo=3&sido=&gugun=&store=\n",
      "https://www.hollys.co.kr/store/korea/korStore2.do?pageNo=4&sido=&gugun=&store=\n",
      "https://www.hollys.co.kr/store/korea/korStore2.do?pageNo=5&sido=&gugun=&store=\n",
      "https://www.hollys.co.kr/store/korea/korStore2.do?pageNo=6&sido=&gugun=&store=\n",
      "https://www.hollys.co.kr/store/korea/korStore2.do?pageNo=7&sido=&gugun=&store=\n",
      "https://www.hollys.co.kr/store/korea/korStore2.do?pageNo=8&sido=&gugun=&store=\n",
      "https://www.hollys.co.kr/store/korea/korStore2.do?pageNo=9&sido=&gugun=&store=\n",
      "https://www.hollys.co.kr/store/korea/korStore2.do?pageNo=10&sido=&gugun=&store=\n",
      "https://www.hollys.co.kr/store/korea/korStore2.do?pageNo=11&sido=&gugun=&store=\n",
      "https://www.hollys.co.kr/store/korea/korStore2.do?pageNo=12&sido=&gugun=&store=\n",
      "https://www.hollys.co.kr/store/korea/korStore2.do?pageNo=13&sido=&gugun=&store=\n",
      "https://www.hollys.co.kr/store/korea/korStore2.do?pageNo=14&sido=&gugun=&store=\n"
     ]
    },
    {
     "ename": "KeyboardInterrupt",
     "evalue": "",
     "output_type": "error",
     "traceback": [
      "\u001b[0;31m---------------------------------------------------------------------------\u001b[0m",
      "\u001b[0;31mKeyboardInterrupt\u001b[0m                         Traceback (most recent call last)",
      "Cell \u001b[0;32mIn[29], line 32\u001b[0m\n\u001b[1;32m     29\u001b[0m   \u001b[38;5;28;01mdel\u001b[39;00m result[:]\n\u001b[1;32m     31\u001b[0m \u001b[38;5;28;01mif\u001b[39;00m \u001b[38;5;18m__name__\u001b[39m \u001b[38;5;241m==\u001b[39m \u001b[38;5;124m'\u001b[39m\u001b[38;5;124m__main__\u001b[39m\u001b[38;5;124m'\u001b[39m:\n\u001b[0;32m---> 32\u001b[0m   \u001b[43mmain\u001b[49m\u001b[43m(\u001b[49m\u001b[43m)\u001b[49m\n",
      "Cell \u001b[0;32mIn[29], line 26\u001b[0m, in \u001b[0;36mmain\u001b[0;34m()\u001b[0m\n\u001b[1;32m     24\u001b[0m result \u001b[38;5;241m=\u001b[39m []\n\u001b[1;32m     25\u001b[0m \u001b[38;5;28mprint\u001b[39m(\u001b[38;5;124m'\u001b[39m\u001b[38;5;124mHollys store crawling\u001b[39m\u001b[38;5;124m'\u001b[39m)\n\u001b[0;32m---> 26\u001b[0m \u001b[43mhollys_store\u001b[49m\u001b[43m(\u001b[49m\u001b[43mresult\u001b[49m\u001b[43m)\u001b[49m\n\u001b[1;32m     27\u001b[0m hollys_tbl \u001b[38;5;241m=\u001b[39m pd\u001b[38;5;241m.\u001b[39mDataFrame (result, columns\u001b[38;5;241m=\u001b[39m(\u001b[38;5;124m'\u001b[39m\u001b[38;5;124mstore\u001b[39m\u001b[38;5;124m'\u001b[39m, \u001b[38;5;124m'\u001b[39m\u001b[38;5;124msido-gu\u001b[39m\u001b[38;5;124m'\u001b[39m, \u001b[38;5;124m'\u001b[39m\u001b[38;5;124maddress\u001b[39m\u001b[38;5;124m'\u001b[39m, \u001b[38;5;124m'\u001b[39m\u001b[38;5;124mphone\u001b[39m\u001b[38;5;124m'\u001b[39m))\n\u001b[1;32m     28\u001b[0m hollys_tbl\u001b[38;5;241m.\u001b[39mto_csv(\u001b[38;5;124m'\u001b[39m\u001b[38;5;124mhollys.csv\u001b[39m\u001b[38;5;124m'\u001b[39m, encoding\u001b[38;5;241m=\u001b[39m\u001b[38;5;124m'\u001b[39m\u001b[38;5;124mcp949\u001b[39m\u001b[38;5;124m'\u001b[39m, mode\u001b[38;5;241m=\u001b[39m\u001b[38;5;124m'\u001b[39m\u001b[38;5;124mw\u001b[39m\u001b[38;5;124m'\u001b[39m, index\u001b[38;5;241m=\u001b[39m\u001b[38;5;28;01mTrue\u001b[39;00m)\n",
      "Cell \u001b[0;32mIn[29], line 9\u001b[0m, in \u001b[0;36mhollys_store\u001b[0;34m(result)\u001b[0m\n\u001b[1;32m      7\u001b[0m Hollys_url \u001b[38;5;241m=\u001b[39m \u001b[38;5;124m'\u001b[39m\u001b[38;5;124mhttps://www.hollys.co.kr/store/korea/korStore2.do?pageNo=\u001b[39m\u001b[38;5;132;01m%d\u001b[39;00m\u001b[38;5;124m&sido=&gugun=&store=\u001b[39m\u001b[38;5;124m'\u001b[39m \u001b[38;5;241m%\u001b[39mpage\n\u001b[1;32m      8\u001b[0m \u001b[38;5;28mprint\u001b[39m (Hollys_url)\n\u001b[0;32m----> 9\u001b[0m html \u001b[38;5;241m=\u001b[39m \u001b[43murllib\u001b[49m\u001b[38;5;241;43m.\u001b[39;49m\u001b[43mrequest\u001b[49m\u001b[38;5;241;43m.\u001b[39;49m\u001b[43murlopen\u001b[49m\u001b[43m \u001b[49m\u001b[43m(\u001b[49m\u001b[43mHollys_url\u001b[49m\u001b[43m)\u001b[49m\n\u001b[1;32m     10\u001b[0m soupHollys \u001b[38;5;241m=\u001b[39m BeautifulSoup(html, \u001b[38;5;124m'\u001b[39m\u001b[38;5;124mhtml.parser\u001b[39m\u001b[38;5;124m'\u001b[39m)\n\u001b[1;32m     11\u001b[0m tag_tbody \u001b[38;5;241m=\u001b[39m soupHollys\u001b[38;5;241m.\u001b[39mfind(\u001b[38;5;124m'\u001b[39m\u001b[38;5;124mtbody\u001b[39m\u001b[38;5;124m'\u001b[39m)\n",
      "File \u001b[0;32m/usr/lib/python3.11/urllib/request.py:216\u001b[0m, in \u001b[0;36murlopen\u001b[0;34m(url, data, timeout, cafile, capath, cadefault, context)\u001b[0m\n\u001b[1;32m    214\u001b[0m \u001b[38;5;28;01melse\u001b[39;00m:\n\u001b[1;32m    215\u001b[0m     opener \u001b[38;5;241m=\u001b[39m _opener\n\u001b[0;32m--> 216\u001b[0m \u001b[38;5;28;01mreturn\u001b[39;00m \u001b[43mopener\u001b[49m\u001b[38;5;241;43m.\u001b[39;49m\u001b[43mopen\u001b[49m\u001b[43m(\u001b[49m\u001b[43murl\u001b[49m\u001b[43m,\u001b[49m\u001b[43m \u001b[49m\u001b[43mdata\u001b[49m\u001b[43m,\u001b[49m\u001b[43m \u001b[49m\u001b[43mtimeout\u001b[49m\u001b[43m)\u001b[49m\n",
      "File \u001b[0;32m/usr/lib/python3.11/urllib/request.py:519\u001b[0m, in \u001b[0;36mOpenerDirector.open\u001b[0;34m(self, fullurl, data, timeout)\u001b[0m\n\u001b[1;32m    516\u001b[0m     req \u001b[38;5;241m=\u001b[39m meth(req)\n\u001b[1;32m    518\u001b[0m sys\u001b[38;5;241m.\u001b[39maudit(\u001b[38;5;124m'\u001b[39m\u001b[38;5;124murllib.Request\u001b[39m\u001b[38;5;124m'\u001b[39m, req\u001b[38;5;241m.\u001b[39mfull_url, req\u001b[38;5;241m.\u001b[39mdata, req\u001b[38;5;241m.\u001b[39mheaders, req\u001b[38;5;241m.\u001b[39mget_method())\n\u001b[0;32m--> 519\u001b[0m response \u001b[38;5;241m=\u001b[39m \u001b[38;5;28;43mself\u001b[39;49m\u001b[38;5;241;43m.\u001b[39;49m\u001b[43m_open\u001b[49m\u001b[43m(\u001b[49m\u001b[43mreq\u001b[49m\u001b[43m,\u001b[49m\u001b[43m \u001b[49m\u001b[43mdata\u001b[49m\u001b[43m)\u001b[49m\n\u001b[1;32m    521\u001b[0m \u001b[38;5;66;03m# post-process response\u001b[39;00m\n\u001b[1;32m    522\u001b[0m meth_name \u001b[38;5;241m=\u001b[39m protocol\u001b[38;5;241m+\u001b[39m\u001b[38;5;124m\"\u001b[39m\u001b[38;5;124m_response\u001b[39m\u001b[38;5;124m\"\u001b[39m\n",
      "File \u001b[0;32m/usr/lib/python3.11/urllib/request.py:536\u001b[0m, in \u001b[0;36mOpenerDirector._open\u001b[0;34m(self, req, data)\u001b[0m\n\u001b[1;32m    533\u001b[0m     \u001b[38;5;28;01mreturn\u001b[39;00m result\n\u001b[1;32m    535\u001b[0m protocol \u001b[38;5;241m=\u001b[39m req\u001b[38;5;241m.\u001b[39mtype\n\u001b[0;32m--> 536\u001b[0m result \u001b[38;5;241m=\u001b[39m \u001b[38;5;28;43mself\u001b[39;49m\u001b[38;5;241;43m.\u001b[39;49m\u001b[43m_call_chain\u001b[49m\u001b[43m(\u001b[49m\u001b[38;5;28;43mself\u001b[39;49m\u001b[38;5;241;43m.\u001b[39;49m\u001b[43mhandle_open\u001b[49m\u001b[43m,\u001b[49m\u001b[43m \u001b[49m\u001b[43mprotocol\u001b[49m\u001b[43m,\u001b[49m\u001b[43m \u001b[49m\u001b[43mprotocol\u001b[49m\u001b[43m \u001b[49m\u001b[38;5;241;43m+\u001b[39;49m\n\u001b[1;32m    537\u001b[0m \u001b[43m                          \u001b[49m\u001b[38;5;124;43m'\u001b[39;49m\u001b[38;5;124;43m_open\u001b[39;49m\u001b[38;5;124;43m'\u001b[39;49m\u001b[43m,\u001b[49m\u001b[43m \u001b[49m\u001b[43mreq\u001b[49m\u001b[43m)\u001b[49m\n\u001b[1;32m    538\u001b[0m \u001b[38;5;28;01mif\u001b[39;00m result:\n\u001b[1;32m    539\u001b[0m     \u001b[38;5;28;01mreturn\u001b[39;00m result\n",
      "File \u001b[0;32m/usr/lib/python3.11/urllib/request.py:496\u001b[0m, in \u001b[0;36mOpenerDirector._call_chain\u001b[0;34m(self, chain, kind, meth_name, *args)\u001b[0m\n\u001b[1;32m    494\u001b[0m \u001b[38;5;28;01mfor\u001b[39;00m handler \u001b[38;5;129;01min\u001b[39;00m handlers:\n\u001b[1;32m    495\u001b[0m     func \u001b[38;5;241m=\u001b[39m \u001b[38;5;28mgetattr\u001b[39m(handler, meth_name)\n\u001b[0;32m--> 496\u001b[0m     result \u001b[38;5;241m=\u001b[39m \u001b[43mfunc\u001b[49m\u001b[43m(\u001b[49m\u001b[38;5;241;43m*\u001b[39;49m\u001b[43margs\u001b[49m\u001b[43m)\u001b[49m\n\u001b[1;32m    497\u001b[0m     \u001b[38;5;28;01mif\u001b[39;00m result \u001b[38;5;129;01mis\u001b[39;00m \u001b[38;5;129;01mnot\u001b[39;00m \u001b[38;5;28;01mNone\u001b[39;00m:\n\u001b[1;32m    498\u001b[0m         \u001b[38;5;28;01mreturn\u001b[39;00m result\n",
      "File \u001b[0;32m/usr/lib/python3.11/urllib/request.py:1391\u001b[0m, in \u001b[0;36mHTTPSHandler.https_open\u001b[0;34m(self, req)\u001b[0m\n\u001b[1;32m   1390\u001b[0m \u001b[38;5;28;01mdef\u001b[39;00m \u001b[38;5;21mhttps_open\u001b[39m(\u001b[38;5;28mself\u001b[39m, req):\n\u001b[0;32m-> 1391\u001b[0m     \u001b[38;5;28;01mreturn\u001b[39;00m \u001b[38;5;28;43mself\u001b[39;49m\u001b[38;5;241;43m.\u001b[39;49m\u001b[43mdo_open\u001b[49m\u001b[43m(\u001b[49m\u001b[43mhttp\u001b[49m\u001b[38;5;241;43m.\u001b[39;49m\u001b[43mclient\u001b[49m\u001b[38;5;241;43m.\u001b[39;49m\u001b[43mHTTPSConnection\u001b[49m\u001b[43m,\u001b[49m\u001b[43m \u001b[49m\u001b[43mreq\u001b[49m\u001b[43m,\u001b[49m\n\u001b[1;32m   1392\u001b[0m \u001b[43m        \u001b[49m\u001b[43mcontext\u001b[49m\u001b[38;5;241;43m=\u001b[39;49m\u001b[38;5;28;43mself\u001b[39;49m\u001b[38;5;241;43m.\u001b[39;49m\u001b[43m_context\u001b[49m\u001b[43m,\u001b[49m\u001b[43m \u001b[49m\u001b[43mcheck_hostname\u001b[49m\u001b[38;5;241;43m=\u001b[39;49m\u001b[38;5;28;43mself\u001b[39;49m\u001b[38;5;241;43m.\u001b[39;49m\u001b[43m_check_hostname\u001b[49m\u001b[43m)\u001b[49m\n",
      "File \u001b[0;32m/usr/lib/python3.11/urllib/request.py:1352\u001b[0m, in \u001b[0;36mAbstractHTTPHandler.do_open\u001b[0;34m(self, http_class, req, **http_conn_args)\u001b[0m\n\u001b[1;32m   1350\u001b[0m     \u001b[38;5;28;01mexcept\u001b[39;00m \u001b[38;5;167;01mOSError\u001b[39;00m \u001b[38;5;28;01mas\u001b[39;00m err: \u001b[38;5;66;03m# timeout error\u001b[39;00m\n\u001b[1;32m   1351\u001b[0m         \u001b[38;5;28;01mraise\u001b[39;00m URLError(err)\n\u001b[0;32m-> 1352\u001b[0m     r \u001b[38;5;241m=\u001b[39m \u001b[43mh\u001b[49m\u001b[38;5;241;43m.\u001b[39;49m\u001b[43mgetresponse\u001b[49m\u001b[43m(\u001b[49m\u001b[43m)\u001b[49m\n\u001b[1;32m   1353\u001b[0m \u001b[38;5;28;01mexcept\u001b[39;00m:\n\u001b[1;32m   1354\u001b[0m     h\u001b[38;5;241m.\u001b[39mclose()\n",
      "File \u001b[0;32m/usr/lib/python3.11/http/client.py:1395\u001b[0m, in \u001b[0;36mHTTPConnection.getresponse\u001b[0;34m(self)\u001b[0m\n\u001b[1;32m   1393\u001b[0m \u001b[38;5;28;01mtry\u001b[39;00m:\n\u001b[1;32m   1394\u001b[0m     \u001b[38;5;28;01mtry\u001b[39;00m:\n\u001b[0;32m-> 1395\u001b[0m         \u001b[43mresponse\u001b[49m\u001b[38;5;241;43m.\u001b[39;49m\u001b[43mbegin\u001b[49m\u001b[43m(\u001b[49m\u001b[43m)\u001b[49m\n\u001b[1;32m   1396\u001b[0m     \u001b[38;5;28;01mexcept\u001b[39;00m \u001b[38;5;167;01mConnectionError\u001b[39;00m:\n\u001b[1;32m   1397\u001b[0m         \u001b[38;5;28mself\u001b[39m\u001b[38;5;241m.\u001b[39mclose()\n",
      "File \u001b[0;32m/usr/lib/python3.11/http/client.py:325\u001b[0m, in \u001b[0;36mHTTPResponse.begin\u001b[0;34m(self)\u001b[0m\n\u001b[1;32m    323\u001b[0m \u001b[38;5;66;03m# read until we get a non-100 response\u001b[39;00m\n\u001b[1;32m    324\u001b[0m \u001b[38;5;28;01mwhile\u001b[39;00m \u001b[38;5;28;01mTrue\u001b[39;00m:\n\u001b[0;32m--> 325\u001b[0m     version, status, reason \u001b[38;5;241m=\u001b[39m \u001b[38;5;28;43mself\u001b[39;49m\u001b[38;5;241;43m.\u001b[39;49m\u001b[43m_read_status\u001b[49m\u001b[43m(\u001b[49m\u001b[43m)\u001b[49m\n\u001b[1;32m    326\u001b[0m     \u001b[38;5;28;01mif\u001b[39;00m status \u001b[38;5;241m!=\u001b[39m CONTINUE:\n\u001b[1;32m    327\u001b[0m         \u001b[38;5;28;01mbreak\u001b[39;00m\n",
      "File \u001b[0;32m/usr/lib/python3.11/http/client.py:286\u001b[0m, in \u001b[0;36mHTTPResponse._read_status\u001b[0;34m(self)\u001b[0m\n\u001b[1;32m    285\u001b[0m \u001b[38;5;28;01mdef\u001b[39;00m \u001b[38;5;21m_read_status\u001b[39m(\u001b[38;5;28mself\u001b[39m):\n\u001b[0;32m--> 286\u001b[0m     line \u001b[38;5;241m=\u001b[39m \u001b[38;5;28mstr\u001b[39m(\u001b[38;5;28mself\u001b[39m\u001b[38;5;241m.\u001b[39mfp\u001b[38;5;241m.\u001b[39mreadline(_MAXLINE \u001b[38;5;241m+\u001b[39m \u001b[38;5;241m1\u001b[39m), \u001b[38;5;124m\"\u001b[39m\u001b[38;5;124miso-8859-1\u001b[39m\u001b[38;5;124m\"\u001b[39m)\n\u001b[1;32m    287\u001b[0m     \u001b[38;5;28;01mif\u001b[39;00m \u001b[38;5;28mlen\u001b[39m(line) \u001b[38;5;241m>\u001b[39m _MAXLINE:\n\u001b[1;32m    288\u001b[0m         \u001b[38;5;28;01mraise\u001b[39;00m LineTooLong(\u001b[38;5;124m\"\u001b[39m\u001b[38;5;124mstatus line\u001b[39m\u001b[38;5;124m\"\u001b[39m)\n",
      "File \u001b[0;32m/usr/lib/python3.11/socket.py:706\u001b[0m, in \u001b[0;36mSocketIO.readinto\u001b[0;34m(self, b)\u001b[0m\n\u001b[1;32m    704\u001b[0m \u001b[38;5;28;01mwhile\u001b[39;00m \u001b[38;5;28;01mTrue\u001b[39;00m:\n\u001b[1;32m    705\u001b[0m     \u001b[38;5;28;01mtry\u001b[39;00m:\n\u001b[0;32m--> 706\u001b[0m         \u001b[38;5;28;01mreturn\u001b[39;00m \u001b[38;5;28;43mself\u001b[39;49m\u001b[38;5;241;43m.\u001b[39;49m\u001b[43m_sock\u001b[49m\u001b[38;5;241;43m.\u001b[39;49m\u001b[43mrecv_into\u001b[49m\u001b[43m(\u001b[49m\u001b[43mb\u001b[49m\u001b[43m)\u001b[49m\n\u001b[1;32m    707\u001b[0m     \u001b[38;5;28;01mexcept\u001b[39;00m timeout:\n\u001b[1;32m    708\u001b[0m         \u001b[38;5;28mself\u001b[39m\u001b[38;5;241m.\u001b[39m_timeout_occurred \u001b[38;5;241m=\u001b[39m \u001b[38;5;28;01mTrue\u001b[39;00m\n",
      "File \u001b[0;32m/usr/lib/python3.11/ssl.py:1314\u001b[0m, in \u001b[0;36mSSLSocket.recv_into\u001b[0;34m(self, buffer, nbytes, flags)\u001b[0m\n\u001b[1;32m   1310\u001b[0m     \u001b[38;5;28;01mif\u001b[39;00m flags \u001b[38;5;241m!=\u001b[39m \u001b[38;5;241m0\u001b[39m:\n\u001b[1;32m   1311\u001b[0m         \u001b[38;5;28;01mraise\u001b[39;00m \u001b[38;5;167;01mValueError\u001b[39;00m(\n\u001b[1;32m   1312\u001b[0m           \u001b[38;5;124m\"\u001b[39m\u001b[38;5;124mnon-zero flags not allowed in calls to recv_into() on \u001b[39m\u001b[38;5;132;01m%s\u001b[39;00m\u001b[38;5;124m\"\u001b[39m \u001b[38;5;241m%\u001b[39m\n\u001b[1;32m   1313\u001b[0m           \u001b[38;5;28mself\u001b[39m\u001b[38;5;241m.\u001b[39m\u001b[38;5;18m__class__\u001b[39m)\n\u001b[0;32m-> 1314\u001b[0m     \u001b[38;5;28;01mreturn\u001b[39;00m \u001b[38;5;28;43mself\u001b[39;49m\u001b[38;5;241;43m.\u001b[39;49m\u001b[43mread\u001b[49m\u001b[43m(\u001b[49m\u001b[43mnbytes\u001b[49m\u001b[43m,\u001b[49m\u001b[43m \u001b[49m\u001b[43mbuffer\u001b[49m\u001b[43m)\u001b[49m\n\u001b[1;32m   1315\u001b[0m \u001b[38;5;28;01melse\u001b[39;00m:\n\u001b[1;32m   1316\u001b[0m     \u001b[38;5;28;01mreturn\u001b[39;00m \u001b[38;5;28msuper\u001b[39m()\u001b[38;5;241m.\u001b[39mrecv_into(buffer, nbytes, flags)\n",
      "File \u001b[0;32m/usr/lib/python3.11/ssl.py:1166\u001b[0m, in \u001b[0;36mSSLSocket.read\u001b[0;34m(self, len, buffer)\u001b[0m\n\u001b[1;32m   1164\u001b[0m \u001b[38;5;28;01mtry\u001b[39;00m:\n\u001b[1;32m   1165\u001b[0m     \u001b[38;5;28;01mif\u001b[39;00m buffer \u001b[38;5;129;01mis\u001b[39;00m \u001b[38;5;129;01mnot\u001b[39;00m \u001b[38;5;28;01mNone\u001b[39;00m:\n\u001b[0;32m-> 1166\u001b[0m         \u001b[38;5;28;01mreturn\u001b[39;00m \u001b[38;5;28;43mself\u001b[39;49m\u001b[38;5;241;43m.\u001b[39;49m\u001b[43m_sslobj\u001b[49m\u001b[38;5;241;43m.\u001b[39;49m\u001b[43mread\u001b[49m\u001b[43m(\u001b[49m\u001b[38;5;28;43mlen\u001b[39;49m\u001b[43m,\u001b[49m\u001b[43m \u001b[49m\u001b[43mbuffer\u001b[49m\u001b[43m)\u001b[49m\n\u001b[1;32m   1167\u001b[0m     \u001b[38;5;28;01melse\u001b[39;00m:\n\u001b[1;32m   1168\u001b[0m         \u001b[38;5;28;01mreturn\u001b[39;00m \u001b[38;5;28mself\u001b[39m\u001b[38;5;241m.\u001b[39m_sslobj\u001b[38;5;241m.\u001b[39mread(\u001b[38;5;28mlen\u001b[39m)\n",
      "\u001b[0;31mKeyboardInterrupt\u001b[0m: "
     ]
    }
   ],
   "source": [
    "from bs4 import BeautifulSoup\n",
    "import urllib.request\n",
    "import pandas as pd\n",
    "\n",
    "def hollys_store(result):\n",
    "  for page in range(1,57):\n",
    "    Hollys_url = 'https://www.hollys.co.kr/store/korea/korStore2.do?pageNo=%d&sido=&gugun=&store=' %page\n",
    "    print (Hollys_url)\n",
    "    html = urllib.request.urlopen (Hollys_url)\n",
    "    soupHollys = BeautifulSoup(html, 'html.parser')\n",
    "    tag_tbody = soupHollys.find('tbody')\n",
    "    for store in tag_tbody.find_all('tr'):\n",
    "      if len(store) <= 3:\n",
    "        break\n",
    "      store_td = store.find_all('td')\n",
    "      store_name = store_td[1].string\n",
    "      store_sido = store_td[0].string\n",
    "      store_address = store_td[3].string\n",
    "      store_phone = store_td[5].string\n",
    "      result.append([store_name]+[store_sido]+[store_address] +[store_phone])\n",
    "  return\n",
    "\n",
    "def main():\n",
    "  result = []\n",
    "  print('Hollys store crawling')\n",
    "  hollys_store(result)\n",
    "  hollys_tbl = pd.DataFrame (result, columns=('store', 'sido-gu', 'address', 'phone'))\n",
    "  hollys_tbl.to_csv('hollys.csv', encoding='cp949', mode='w', index=True)\n",
    "  del result[:]\n",
    "\n",
    "if __name__ == '__main__':\n",
    "  main()"
   ]
  },
  {
   "cell_type": "code",
   "execution_count": null,
   "metadata": {},
   "outputs": [],
   "source": [
    "from bs4 import BeautifulSoup\n",
    "import urllib.request\n",
    "import pandas as pd\n",
    "\n",
    "def hollys_store(result):\n",
    "  for page in range(1,57):\n",
    "    Hollys_url = f'https://www.hollys.co.kr/store/korea/korStore2.do?pageNo={page}&sido={}&gugun=&store=' %page\n",
    "    print (Hollys_url)\n",
    "    html = urllib.request.urlopen (Hollys_url)\n",
    "    soupHollys = BeautifulSoup(html, 'html.parser')\n",
    "    tag_tbody = soupHollys.find('tbody')\n",
    "    for store in tag_tbody.find_all('tr'):\n",
    "      if len(store) <= 3:\n",
    "        break\n",
    "      store_td = store.find_all('td')\n",
    "      store_name = store_td[1].string\n",
    "      store_sido = store_td[0].string\n",
    "      store_address = store_td[3].string\n",
    "      store_phone = store_td[5].string\n",
    "      result.append([store_name]+[store_sido]+[store_address] +[store_phone])\n",
    "  return re\n",
    "\n",
    "def main():\n",
    "  result = []\n",
    "  print('Hollys store crawling >>>>')\n",
    "  hollys_store(result)\n",
    "  hollys_tbl = pd.DataFrame (result, columns=('store', 'sido-gu', 'address', 'phone'))\n",
    "  hollys_tbl.to_csv('hollys.csv', encoding='cp949', mode='w', index=True)\n",
    "  del result[:]\n",
    "\n",
    "if_name == '__main__':\n",
    "  main() # main 함수를 실행시키는 코드"
   ]
  },
  {
   "cell_type": "code",
   "execution_count": 30,
   "metadata": {},
   "outputs": [
    {
     "name": "stdout",
     "output_type": "stream",
     "text": [
      "['1151', '1151', '1150', '1150', '1148', '1148', '1146', '1146', '1145', '1145', '1144', '1144', '1142', '1142', '1141', '1141', '1138', '1138', '1137', '1137']\n"
     ]
    }
   ],
   "source": [
    "from bs4 import BeautifulSoup\n",
    "import urllib.request\n",
    "import re\n",
    "\n",
    "url = 'https://www.hollys.co.kr/store/korea/korStore2.do'\n",
    "html = urllib.request.urlopen(url)\n",
    "soup = BeautifulSoup(html, 'html.parser')\n",
    "\n",
    "# css path\n",
    "tags = soup.select('html body div.wrap div#contentsWr.contents_wr div#contents.contents.po_design div.content fieldset fieldset div.tableType01 table.tb_store tbody tr td.center_t a')\n",
    "\n",
    "store_numbers = []\n",
    "\n",
    "for tag in tags:\n",
    "    onclick_text = tag.get('onclick', '')\n",
    "    match = re.search(r'storeView\\((\\d+)\\)', onclick_text)\n",
    "    if match:\n",
    "        store_number = match.group(1)\n",
    "        store_numbers.append(store_number)\n",
    "\n",
    "# 추출된 숫자를 출력합니다.\n",
    "print(store_numbers)"
   ]
  }
 ],
 "metadata": {
  "kernelspec": {
   "display_name": "Python 3",
   "language": "python",
   "name": "python3"
  },
  "language_info": {
   "codemirror_mode": {
    "name": "ipython",
    "version": 3
   },
   "file_extension": ".py",
   "mimetype": "text/x-python",
   "name": "python",
   "nbconvert_exporter": "python",
   "pygments_lexer": "ipython3",
   "version": "3.11.9"
  }
 },
 "nbformat": 4,
 "nbformat_minor": 2
}
