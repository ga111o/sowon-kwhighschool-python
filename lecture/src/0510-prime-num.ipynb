{
 "cells": [
  {
   "cell_type": "code",
   "execution_count": 3,
   "metadata": {},
   "outputs": [
    {
     "name": "stdout",
     "output_type": "stream",
     "text": [
      "소수 O\n",
      "소수 O\n",
      "소수 X\n",
      "소수 O\n",
      "소수 X\n",
      "소수 X\n"
     ]
    }
   ],
   "source": [
    "while(True):\n",
    "    num = int(input(\"숫자 입력: \"))\n",
    "    is_prime = True\n",
    "\n",
    "    if num == 0:\n",
    "        break\n",
    "\n",
    "    elif num == 1:\n",
    "        print(\"소수 X\")\n",
    "        continue\n",
    "\n",
    "    else:\n",
    "        for i in range(2, num):\n",
    "            if num % i == 0:\n",
    "                is_prime = False\n",
    "\n",
    "    if is_prime == True:\n",
    "        print(\"소수 O\")\n",
    "    else:\n",
    "        print(\"소수 X\")"
   ]
  },
  {
   "cell_type": "code",
   "execution_count": null,
   "metadata": {},
   "outputs": [],
   "source": [
    "while(True):\n",
    "    num = int(input(\"숫자 입력: \"))\n",
    "    is_prime = True\n",
    "\n",
    "    if num == 0:\n",
    "        break\n",
    "\n",
    "    elif num == 1:\n",
    "        print(\"소수 X\")\n",
    "        continue\n",
    "\n",
    "    else:\n",
    "        for i in range(2, num):\n",
    "            if num % i == 0:\n",
    "                is_prime = False\n",
    "\n",
    "    if is_prime == True:\n",
    "        print(\"소수 O\")\n",
    "    else:\n",
    "        print(\"소수 X\")"
   ]
  }
 ],
 "metadata": {
  "kernelspec": {
   "display_name": "Python 3",
   "language": "python",
   "name": "python3"
  },
  "language_info": {
   "codemirror_mode": {
    "name": "ipython",
    "version": 3
   },
   "file_extension": ".py",
   "mimetype": "text/x-python",
   "name": "python",
   "nbconvert_exporter": "python",
   "pygments_lexer": "ipython3",
   "version": "3.11.9"
  }
 },
 "nbformat": 4,
 "nbformat_minor": 2
}
