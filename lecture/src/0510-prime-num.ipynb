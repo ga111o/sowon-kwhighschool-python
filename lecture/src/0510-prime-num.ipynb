{
 "cells": [
  {
   "cell_type": "code",
   "execution_count": 3,
   "metadata": {},
   "outputs": [
    {
     "name": "stdout",
     "output_type": "stream",
     "text": [
      "소수 O\n",
      "소수 O\n",
      "소수 X\n",
      "소수 O\n",
      "소수 X\n",
      "소수 X\n"
     ]
    }
   ],
   "source": [
    "while(True):\n",
    "    num = int(input(\"숫자 입력: \"))\n",
    "    is_prime = True\n",
    "\n",
    "    if num == 0:\n",
    "        break\n",
    "\n",
    "    elif num == 1:\n",
    "        print(\"소수 X\")\n",
    "        continue\n",
    "\n",
    "    else:\n",
    "        for i in range(2, num):\n",
    "            if num % i == 0:\n",
    "                is_prime = False\n",
    "\n",
    "    if is_prime == True:\n",
    "        print(\"소수 O\")\n",
    "    else:\n",
    "        print(\"소수 X\")"
   ]
  },
  {
   "cell_type": "code",
   "execution_count": 1,
   "metadata": {},
   "outputs": [],
   "source": [
    "import random"
   ]
  },
  {
   "cell_type": "code",
   "execution_count": 4,
   "metadata": {},
   "outputs": [],
   "source": [
    "for roll in range(100):\n",
    "  r = random.randrange(0,9)\n",
    "  if r>8:\n",
    "    print(r)"
   ]
  },
  {
   "cell_type": "code",
   "execution_count": 7,
   "metadata": {},
   "outputs": [
    {
     "name": "stdout",
     "output_type": "stream",
     "text": [
      "p2\n",
      "-9\n"
     ]
    }
   ],
   "source": [
    "def test(a):\n",
    "  if a > 10:\n",
    "    print(\"p1\")\n",
    "    return a+10\n",
    "  elif a < 10:\n",
    "    print(\"p2\")\n",
    "    return a-10\n",
    "  \n",
    "dd = 1\n",
    "print(test(dd))"
   ]
  },
  {
   "cell_type": "code",
   "execution_count": null,
   "metadata": {},
   "outputs": [],
   "source": [
    "while(True):\n",
    "    num = int(input(\"숫자 입력: \"))\n",
    "    is_prime = True\n",
    "\n",
    "    if num == 0:\n",
    "        break\n",
    "\n",
    "    elif num == 1:\n",
    "        print(\"소수 X\")\n",
    "        continue\n",
    "\n",
    "    else:\n",
    "        for i in range(2, num):\n",
    "            if num % i == 0:\n",
    "                is_prime = False\n",
    "\n",
    "    if is_prime == True:\n",
    "        print(\"소수 O\")\n",
    "    else:\n",
    "        print(\"소수 X\")"
   ]
  },
  {
   "cell_type": "code",
   "execution_count": 21,
   "metadata": {},
   "outputs": [
    {
     "name": "stdout",
     "output_type": "stream",
     "text": [
      "10\n",
      "None\n",
      "10\n"
     ]
    }
   ],
   "source": [
    "def test1():\n",
    "  a = 10\n",
    "  def test2():\n",
    "    b = 30\n",
    "    print(a)\n",
    "  test2()\n",
    "\n",
    "print(test1())\n",
    "test1()\n",
    "#cuz test1의 return이 None이기 때문."
   ]
  },
  {
   "cell_type": "code",
   "execution_count": 23,
   "metadata": {},
   "outputs": [
    {
     "name": "stdout",
     "output_type": "stream",
     "text": [
      "5\n",
      "6\n",
      "7\n",
      "8\n",
      "9\n",
      "\n",
      "3\n",
      "4\n",
      "\n",
      "\n",
      "3\n",
      "4\n"
     ]
    }
   ],
   "source": [
    "\n",
    "for i in range(5,10):\n",
    "  print(i)\n",
    "print(\"\")\n",
    "for i in range(3,5):\n",
    "  print(i)\n",
    "print(\"\")\n",
    "i = 30\n",
    "print(\"\")\n",
    "for i in range(3,5):\n",
    "  print(i)"
   ]
  },
  {
   "cell_type": "code",
   "execution_count": 28,
   "metadata": {},
   "outputs": [
    {
     "name": "stdout",
     "output_type": "stream",
     "text": [
      "30\n",
      "10\n",
      "30\n",
      "<function asdf at 0x7fe3686499e0>\n"
     ]
    }
   ],
   "source": [
    "a = 30\n",
    "\n",
    "def asdf():\n",
    "  a = 10\n",
    "  print(a)\n",
    "\n",
    "print(a)\n",
    "asdf()\n",
    "print(a)\n",
    "print(asdf)"
   ]
  }
 ],
 "metadata": {
  "kernelspec": {
   "display_name": "Python 3",
   "language": "python",
   "name": "python3"
  },
  "language_info": {
   "codemirror_mode": {
    "name": "ipython",
    "version": 3
   },
   "file_extension": ".py",
   "mimetype": "text/x-python",
   "name": "python",
   "nbconvert_exporter": "python",
   "pygments_lexer": "ipython3",
   "version": "3.11.9"
  }
 },
 "nbformat": 4,
 "nbformat_minor": 2
}
