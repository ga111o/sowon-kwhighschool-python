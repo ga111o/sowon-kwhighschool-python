{
 "cells": [
  {
   "cell_type": "code",
   "execution_count": 13,
   "metadata": {},
   "outputs": [
    {
     "data": {
      "text/plain": [
       "{'a', 'b', 'c', 'd', 'e'}"
      ]
     },
     "execution_count": 13,
     "metadata": {},
     "output_type": "execute_result"
    }
   ],
   "source": [
    "space = {\"a\", \"b\", \"c\", \"d\", \"e\", \"a\", \"b\"}\n",
    "\n",
    "space"
   ]
  },
  {
   "cell_type": "code",
   "execution_count": 2,
   "metadata": {},
   "outputs": [
    {
     "ename": "TypeError",
     "evalue": "unsupported operand type(s) for &: 'list' and 'list'",
     "output_type": "error",
     "traceback": [
      "\u001b[0;31m---------------------------------------------------------------------------\u001b[0m",
      "\u001b[0;31mTypeError\u001b[0m                                 Traceback (most recent call last)",
      "Cell \u001b[0;32mIn[2], line 8\u001b[0m\n\u001b[1;32m      6\u001b[0m     set2 \u001b[38;5;241m=\u001b[39m \u001b[38;5;28mset\u001b[39m(team2)\n\u001b[1;32m      7\u001b[0m     \u001b[38;5;28;01mreturn\u001b[39;00m team1 \u001b[38;5;241m&\u001b[39m team2\n\u001b[0;32m----> 8\u001b[0m \u001b[38;5;28mprint\u001b[39m(\u001b[43mcheckDuplication\u001b[49m\u001b[43m(\u001b[49m\u001b[43mteam_A\u001b[49m\u001b[43m,\u001b[49m\u001b[43m \u001b[49m\u001b[43mteam_B\u001b[49m\u001b[43m)\u001b[49m)\n",
      "Cell \u001b[0;32mIn[2], line 7\u001b[0m, in \u001b[0;36mcheckDuplication\u001b[0;34m(team1, team2)\u001b[0m\n\u001b[1;32m      5\u001b[0m set1 \u001b[38;5;241m=\u001b[39m \u001b[38;5;28mset\u001b[39m(team1)\n\u001b[1;32m      6\u001b[0m set2 \u001b[38;5;241m=\u001b[39m \u001b[38;5;28mset\u001b[39m(team2)\n\u001b[0;32m----> 7\u001b[0m \u001b[38;5;28;01mreturn\u001b[39;00m \u001b[43mteam1\u001b[49m\u001b[43m \u001b[49m\u001b[38;5;241;43m&\u001b[39;49m\u001b[43m \u001b[49m\u001b[43mteam2\u001b[49m\n",
      "\u001b[0;31mTypeError\u001b[0m: unsupported operand type(s) for &: 'list' and 'list'"
     ]
    }
   ],
   "source": [
    "team_A = [\"alice@example.com\", \"bob@example.com\", \"charlie@example.com\"]\n",
    "team_B = [\"bob@example.com\", \"david@example.com\", \"alice@example.com\"]\n",
    "\n",
    "def checkDuplication(team1, team2):\n",
    "    set1 = set(team1)\n",
    "    set2 = set(team2)\n",
    "    return set1 & set2\n",
    "print(checkDuplication(team_A, team_B))\n"
   ]
  },
  {
   "cell_type": "code",
   "execution_count": 6,
   "metadata": {},
   "outputs": [
    {
     "name": "stdout",
     "output_type": "stream",
     "text": [
      "139862928679872\n",
      "139862927450496\n",
      "10750888\n",
      "10750920\n",
      "139862928679872\n",
      "139862927450496\n",
      "10750888\n",
      "10750920\n",
      "([1, 2, 3, 4, 5, 10], 2, 3)\n"
     ]
    }
   ],
   "source": [
    "t = ([1,2,3,4,5], 2, 3)\n",
    "print(id(t))      # 튜플 객체의 메모리 주소\n",
    "print(id(t[0]))   # 첫 번째 요소의 메모리 주소\n",
    "print(id(t[1]))   # 두 번째 요소의 메모리 주소\n",
    "print(id(t[2]))   # 세 번째 요소의 메모리 주소\n",
    "\n",
    "\n",
    "a = t[0]\n",
    "a.append(10)\n",
    "print(id(t))      # 튜플 객체의 메모리 주소\n",
    "print(id(t[0]))   # 첫 번째 요소의 메모리 주소\n",
    "print(id(t[1]))   # 두 번째 요소의 메모리 주소\n",
    "print(id(t[2]))   # 세 번째 요소의 메모리 주소\n",
    "\n",
    "print(t)"
   ]
  },
  {
   "cell_type": "code",
   "execution_count": null,
   "metadata": {},
   "outputs": [],
   "source": [
    "dictionary = {\n",
    "  \"1.jpg\": {\"context\": \"9월부터 ...\", \"language\": \"english\"},\n",
    "  \"2.jpg\": {\"context\": \"ㅁㄴㅇㄹ ...\", \"language\": \"english\"},\n",
    "  \"3.jpg\": {\"context\": \"ㅍㅍ ...\", \"language\": \"english\"},\n",
    "  \"4.jpg\": {\"context\": \"ㅇㅇ ...\", \"language\": \"english\"},\n",
    "  \"5.jpg\": {\"context\": \"ㅁㅁ ...\", \"language\": \"english\"}\n",
    "}"
   ]
  },
  {
   "cell_type": "code",
   "execution_count": 12,
   "metadata": {},
   "outputs": [
    {
     "name": "stdout",
     "output_type": "stream",
     "text": [
      "최고 성적 학생: 민수, 성적: 98\n"
     ]
    }
   ],
   "source": [
    "students = {\n",
    "  \"철수\": 85,\n",
    "  \"영희\": 90,\n",
    "  \"민수\": 98,\n",
    "  \"민지\": 92\n",
    "  }\n",
    "\n",
    "# students를 하나씩 iteration 하면서 students의 value값들 중 가장 큰 값의 key를 best_student에 저장\n",
    "best_student = max(students, key=students.get)\n",
    "best_score = students[best_student]\n",
    "\n",
    "print(f\"최고 성적 학생: {best_student}, 성적: {best_score}\")"
   ]
  },
  {
   "cell_type": "code",
   "execution_count": 13,
   "metadata": {},
   "outputs": [
    {
     "name": "stdout",
     "output_type": "stream",
     "text": [
      "최고 성적 학생: 민수, 성적: 98\n"
     ]
    }
   ],
   "source": [
    "students = {\n",
    "  \"철수\": 85,\n",
    "  \"영희\": 90,\n",
    "  \"민수\": 98,\n",
    "  \"민지\": 92\n",
    "}\n",
    "\n",
    "best_student = \"\"\n",
    "best_score = 0\n",
    "\n",
    "# students를 하나씩 iteration 하면서 students의 value값들 중 가장 큰 값의 key를 best_student에 저장\n",
    "for student, score in students.items():\n",
    "    if score > best_score:\n",
    "        best_student = student\n",
    "        best_score = score\n",
    "\n",
    "print(f\"최고 성적 학생: {best_student}, 성적: {best_score}\")\n"
   ]
  },
  {
   "cell_type": "code",
   "execution_count": 10,
   "metadata": {},
   "outputs": [
    {
     "data": {
      "text/plain": [
       "(1, 2)"
      ]
     },
     "execution_count": 10,
     "metadata": {},
     "output_type": "execute_result"
    }
   ],
   "source": [
    "def asdf(a,b):\n",
    "  return a, b\n",
    "\n",
    "asdf(1,2)"
   ]
  },
  {
   "cell_type": "code",
   "execution_count": 9,
   "metadata": {},
   "outputs": [
    {
     "data": {
      "text/plain": [
       "True"
      ]
     },
     "execution_count": 9,
     "metadata": {},
     "output_type": "execute_result"
    }
   ],
   "source": [
    "{1,2,3,4,5} == {1,2,3,4,5,1,2,3,1,2,3}\n"
   ]
  },
  {
   "cell_type": "code",
   "execution_count": null,
   "metadata": {},
   "outputs": [],
   "source": [
    "num = set([1,2,3,4,5,6])\n",
    "odd = set([1,3,5,7,9,11])\n",
    "\n",
    "num.add(7)\n",
    "\n",
    "num.add(7)\n",
    "num.remove(3)\n",
    "num.clear()\n",
    "num.issubset(odd)\n",
    "num.difference(odd)\n",
    "num.intersection(odd)\n",
    "num.union(odd)"
   ]
  },
  {
   "cell_type": "code",
   "execution_count": 1,
   "metadata": {},
   "outputs": [
    {
     "name": "stdout",
     "output_type": "stream",
     "text": [
      "1\n",
      "2\n",
      "3\n",
      "4\n",
      "5\n"
     ]
    }
   ],
   "source": [
    "test = {1,2,3,4,5}\n",
    "\n",
    "for i in test:\n",
    "  print(i)"
   ]
  },
  {
   "cell_type": "code",
   "execution_count": 4,
   "metadata": {},
   "outputs": [
    {
     "name": "stdout",
     "output_type": "stream",
     "text": [
      "True\n"
     ]
    }
   ],
   "source": [
    "set1 = {\"a\", \"c\", \"d\", \"e\", \"b\"}\n",
    "set2 = {\"a\", \"b\", \"c\", \"d\", \"e\", \"a\", \"b\"}\n",
    "\n",
    "print(set1 == set2)"
   ]
  },
  {
   "cell_type": "code",
   "execution_count": 11,
   "metadata": {},
   "outputs": [
    {
     "ename": "TypeError",
     "evalue": "'set' object does not support item assignment",
     "output_type": "error",
     "traceback": [
      "\u001b[0;31m---------------------------------------------------------------------------\u001b[0m",
      "\u001b[0;31mTypeError\u001b[0m                                 Traceback (most recent call last)",
      "Cell \u001b[0;32mIn[11], line 2\u001b[0m\n\u001b[1;32m      1\u001b[0m subject \u001b[38;5;241m=\u001b[39m {\u001b[38;5;124m\"\u001b[39m\u001b[38;5;124mkorean\u001b[39m\u001b[38;5;124m\"\u001b[39m, \u001b[38;5;124m\"\u001b[39m\u001b[38;5;124mmath\u001b[39m\u001b[38;5;124m\"\u001b[39m, \u001b[38;5;124m\"\u001b[39m\u001b[38;5;124meng\u001b[39m\u001b[38;5;124m\"\u001b[39m}\n\u001b[0;32m----> 2\u001b[0m \u001b[43msubject\u001b[49m\u001b[43m[\u001b[49m\u001b[38;5;241;43m0\u001b[39;49m\u001b[43m]\u001b[49m \u001b[38;5;241m=\u001b[39m \u001b[38;5;124m\"\u001b[39m\u001b[38;5;124mP.E.\u001b[39m\u001b[38;5;124m\"\u001b[39m \n",
      "\u001b[0;31mTypeError\u001b[0m: 'set' object does not support item assignment"
     ]
    }
   ],
   "source": [
    "subject = {\"korean\", \"math\", \"eng\"}\n",
    "subject[0] = \"P.E.\" "
   ]
  },
  {
   "cell_type": "code",
   "execution_count": 16,
   "metadata": {},
   "outputs": [
    {
     "name": "stdout",
     "output_type": "stream",
     "text": [
      "mango\n",
      "banana\n",
      "apple\n"
     ]
    }
   ],
   "source": [
    "fruits = set([\"mango\", \"banana\", \"apple\"])\n",
    "\n",
    "for element in fruits:\n",
    "  print(element)"
   ]
  },
  {
   "cell_type": "code",
   "execution_count": 17,
   "metadata": {},
   "outputs": [
    {
     "name": "stdout",
     "output_type": "stream",
     "text": [
      "1\n",
      "2\n",
      "3\n",
      "4\n",
      "5\n"
     ]
    }
   ],
   "source": [
    "fruits = {1,2,3,4,5}\n",
    "\n",
    "for i in fruits:\n",
    "  print(i)"
   ]
  },
  {
   "cell_type": "code",
   "execution_count": 14,
   "metadata": {},
   "outputs": [
    {
     "ename": "TypeError",
     "evalue": "unhashable type: 'list'",
     "output_type": "error",
     "traceback": [
      "\u001b[0;31m---------------------------------------------------------------------------\u001b[0m",
      "\u001b[0;31mTypeError\u001b[0m                                 Traceback (most recent call last)",
      "Cell \u001b[0;32mIn[14], line 4\u001b[0m\n\u001b[1;32m      1\u001b[0m my_set \u001b[38;5;241m=\u001b[39m {\u001b[38;5;241m1\u001b[39m, \u001b[38;5;241m2\u001b[39m, \u001b[38;5;241m3\u001b[39m}\n\u001b[1;32m      2\u001b[0m my_list \u001b[38;5;241m=\u001b[39m [\u001b[38;5;241m4\u001b[39m, \u001b[38;5;241m5\u001b[39m]\n\u001b[0;32m----> 4\u001b[0m \u001b[43mmy_set\u001b[49m\u001b[38;5;241;43m.\u001b[39;49m\u001b[43madd\u001b[49m\u001b[43m(\u001b[49m\u001b[43mmy_list\u001b[49m\u001b[43m)\u001b[49m\n",
      "\u001b[0;31mTypeError\u001b[0m: unhashable type: 'list'"
     ]
    }
   ],
   "source": [
    "my_set = {1, 2, 3}\n",
    "my_list = [4, 5]\n",
    "\n",
    "my_set.add(my_list)\n"
   ]
  },
  {
   "cell_type": "code",
   "execution_count": 15,
   "metadata": {},
   "outputs": [
    {
     "ename": "TypeError",
     "evalue": "unhashable type: 'list'",
     "output_type": "error",
     "traceback": [
      "\u001b[0;31m---------------------------------------------------------------------------\u001b[0m",
      "\u001b[0;31mTypeError\u001b[0m                                 Traceback (most recent call last)",
      "Cell \u001b[0;32mIn[15], line 2\u001b[0m\n\u001b[1;32m      1\u001b[0m subject_list \u001b[38;5;241m=\u001b[39m [\u001b[38;5;124m\"\u001b[39m\u001b[38;5;124mkorean\u001b[39m\u001b[38;5;124m\"\u001b[39m, \u001b[38;5;124m\"\u001b[39m\u001b[38;5;124meng\u001b[39m\u001b[38;5;124m\"\u001b[39m]\n\u001b[0;32m----> 2\u001b[0m subject \u001b[38;5;241m=\u001b[39m {subject_list}\n",
      "\u001b[0;31mTypeError\u001b[0m: unhashable type: 'list'"
     ]
    }
   ],
   "source": [
    "subject_list = [\"korean\", \"eng\"]\n",
    "subject = {subject_list}"
   ]
  },
  {
   "cell_type": "code",
   "execution_count": 16,
   "metadata": {},
   "outputs": [],
   "source": [
    "student = {\n",
    "  \"철수\": 100,\n",
    "  \"영희\": 80,\n",
    "  \"민준\": 90,\n",
    "}"
   ]
  },
  {
   "cell_type": "code",
   "execution_count": 19,
   "metadata": {},
   "outputs": [
    {
     "name": "stdout",
     "output_type": "stream",
     "text": [
      "철수\n",
      "영희\n",
      "민준\n"
     ]
    }
   ],
   "source": [
    "for grade in student:\n",
    "  print(grade)"
   ]
  },
  {
   "cell_type": "code",
   "execution_count": 20,
   "metadata": {},
   "outputs": [
    {
     "name": "stdout",
     "output_type": "stream",
     "text": [
      "100\n",
      "80\n",
      "90\n"
     ]
    }
   ],
   "source": [
    "for grade in student:\n",
    "  print(student[grade])"
   ]
  },
  {
   "cell_type": "code",
   "execution_count": 21,
   "metadata": {},
   "outputs": [
    {
     "name": "stdout",
     "output_type": "stream",
     "text": [
      "dict_keys(['name', 'age', 'city'])\n"
     ]
    }
   ],
   "source": [
    "my_dict = {\"name\": \"철수\", \"age\": 25, \"city\": \"서울\"}\n",
    "keys = my_dict.keys()\n",
    "print(keys)  # 출력: dict_keys(['name', 'age', 'city'])"
   ]
  },
  {
   "cell_type": "code",
   "execution_count": 22,
   "metadata": {},
   "outputs": [
    {
     "name": "stdout",
     "output_type": "stream",
     "text": [
      "{90: 'student1', 85: 'student2', 80: 'student3'}\n"
     ]
    }
   ],
   "source": [
    "# 예제 코드\n",
    "grades = {'student1': 90, 'student2': 85, 'student3': 80}\n",
    "grades_inv = {value: key for key, value in grades.items()}\n",
    "\n",
    "print(grades_inv)\n"
   ]
  }
 ],
 "metadata": {
  "kernelspec": {
   "display_name": "Python 3",
   "language": "python",
   "name": "python3"
  },
  "language_info": {
   "codemirror_mode": {
    "name": "ipython",
    "version": 3
   },
   "file_extension": ".py",
   "mimetype": "text/x-python",
   "name": "python",
   "nbconvert_exporter": "python",
   "pygments_lexer": "ipython3",
   "version": "3.11.9"
  }
 },
 "nbformat": 4,
 "nbformat_minor": 2
}
